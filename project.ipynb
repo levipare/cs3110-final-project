{
 "cells": [
  {
   "cell_type": "markdown",
   "id": "64892a9d-cbb7-4383-9a50-ffdc8aeebfa1",
   "metadata": {},
   "source": [
    "# Comparing non-dp decision tree vs dp decision tree"
   ]
  },
  {
   "cell_type": "code",
   "execution_count": 1,
   "id": "13536aae-afd6-4120-b21d-e1238a079368",
   "metadata": {},
   "outputs": [],
   "source": [
    "import pandas as pd\n",
    "import numpy as np\n",
    "import matplotlib.pyplot as plt\n",
    "from sklearn.tree import DecisionTreeClassifier\n",
    "from sklearn.model_selection import cross_val_score\n",
    "import diffprivlib.models as dp\n",
    "from snsynth import Synthesizer # TODO: Exception: Expected exactly one binary to be present. Got: []"
   ]
  },
  {
   "cell_type": "code",
   "execution_count": 2,
   "id": "d3194106-3719-465b-95e2-6fffc8973076",
   "metadata": {},
   "outputs": [],
   "source": [
    "# Original data\n",
    "maternal_health = pd.read_csv('maternalHealthDataSet.csv')\n",
    "X = maternal_health[['Age', 'SystolicBP', 'DiastolicBP', 'BS', 'BodyTemp', 'HeartRate']]\n",
    "y = maternal_health['RiskLevel']"
   ]
  },
  {
   "cell_type": "markdown",
   "id": "5a60aef5-0dc7-43d0-8c2f-8f73c2fa2f9f",
   "metadata": {},
   "source": [
    "## Method 0 (No noise added)"
   ]
  },
  {
   "cell_type": "code",
   "execution_count": 6,
   "id": "f9a96963-d3e1-48c9-be3e-b171cf8c4101",
   "metadata": {},
   "outputs": [
    {
     "data": {
      "text/plain": [
       "0.8124344787419918"
      ]
     },
     "execution_count": 6,
     "metadata": {},
     "output_type": "execute_result"
    }
   ],
   "source": [
    "def dtree(X, y):\n",
    "    clf = DecisionTreeClassifier()\n",
    "    \n",
    "    # Evaluate the model \n",
    "    accuracy = cross_val_score(clf, X, y, cv=10).mean()\n",
    "    return accuracy\n",
    "\n",
    "dtree(X, y)"
   ]
  },
  {
   "cell_type": "markdown",
   "id": "8425ac9e-330b-4b79-b352-56f3759b3433",
   "metadata": {},
   "source": [
    "## Method 1 (BASE CASE) (DP Decision Tree, Original Data)"
   ]
  },
  {
   "cell_type": "code",
   "execution_count": 9,
   "id": "df540317-dae9-4a3c-94af-379e0c516a0e",
   "metadata": {
    "scrolled": true
   },
   "outputs": [
    {
     "data": {
      "text/plain": [
       "0.48413900213550765"
      ]
     },
     "execution_count": 9,
     "metadata": {},
     "output_type": "execute_result"
    }
   ],
   "source": [
    "def dp_dtree(epsilon):\n",
    "    classes = (0, 1, 2) # 0=low risk, 1=mid risk, 2=high risk\n",
    "    \n",
    "    # Bounds computer with publicly available domain knowlegde\n",
    "    # Age, Systolic BP, Diastolic BP, BS, Body Temp, Heart Rate\n",
    "    bounds = ([1, 50, 50, 60, 95, 60],[125, 170, 170, 130, 103, 100])\n",
    "    \n",
    "    \n",
    "    dp_clf = dp.DecisionTreeClassifier(epsilon=epsilon, bounds=bounds, classes=classes)\n",
    "    # Evaluate the model \n",
    "    accuracy = cross_val_score(dp_clf, X, y, cv=10).mean()\n",
    "    return accuracy\n",
    "    \n",
    "dp_dtree(1.0)"
   ]
  },
  {
   "cell_type": "code",
   "execution_count": 11,
   "id": "3e07ec85-40f9-4d13-bfbd-9386a03856c1",
   "metadata": {},
   "outputs": [],
   "source": [
    "def create_synthesizer(epsilon, delta):\n",
    "    # MST synthesizer is used here since it took 1st place in NIST's DP syntehtic data contest\n",
    "    synth = Synthesizer.create(\"mst\", epsilon=epsilon, delta=delta, verbose=True)\n",
    "    synth.fit(maternal_health[['Age', 'SystolicBP', 'DiastolicBP', 'BS', 'BodyTemp', 'HeartRate', 'RiskLevel']], preprocessor_eps=epsilon/5) # allocate 1/5 of epsilon to the preprocesser\n",
    "    return synth\n",
    "\n",
    "def dp_synth_dtree(synth, samples):\n",
    "    data = synth.sample(samples)\n",
    "    X_synth = data[['Age', 'SystolicBP', 'DiastolicBP', 'BS', 'BodyTemp', 'HeartRate']]\n",
    "    y_synth = data['RiskLevel']\n",
    "    return dtree(X_synth, y_synth)"
   ]
  },
  {
   "cell_type": "markdown",
   "id": "f46def30-1e7e-4f26-b78f-d7a173693dd9",
   "metadata": {},
   "source": [
    "## Effect of samples on models trained with synthetic data"
   ]
  },
  {
   "cell_type": "code",
   "execution_count": 14,
   "id": "27d60c6a-ef8c-496b-8ec1-968f72ab35c9",
   "metadata": {
    "scrolled": true
   },
   "outputs": [
    {
     "name": "stderr",
     "output_type": "stream",
     "text": [
      "/opt/anaconda3/lib/python3.12/site-packages/mbi/__init__.py:15: UserWarning: MixtureInference disabled, please install jax and jaxlib\n",
      "  warnings.warn('MixtureInference disabled, please install jax and jaxlib')\n"
     ]
    },
    {
     "name": "stdout",
     "output_type": "stream",
     "text": [
      "Spent 0.2 epsilon on preprocessor, leaving 0.8 for training\n",
      "Fitting with 72960000 dimensions\n",
      "Getting cliques\n",
      "Estimating marginals\n"
     ]
    }
   ],
   "source": [
    "synth_one = create_synthesizer(1.0, 1e-5)"
   ]
  },
  {
   "cell_type": "code",
   "execution_count": 16,
   "id": "ab9f9a7e-ed08-45ec-92ec-912aef7a2b85",
   "metadata": {},
   "outputs": [
    {
     "data": {
      "text/plain": [
       "'\\nsamples = [10**n for n in range(3, 8)]\\naccuracies = []\\nfor n in samples:\\n    accuracies.append(dp_synth_dtree(synth_one, n))\\n'"
      ]
     },
     "execution_count": 16,
     "metadata": {},
     "output_type": "execute_result"
    }
   ],
   "source": [
    "# TODO: REPLACED BY CELLS BELOW\n",
    "\"\"\"\n",
    "samples = [10**n for n in range(3, 8)]\n",
    "accuracies = []\n",
    "for n in samples:\n",
    "    accuracies.append(dp_synth_dtree(synth_one, n))\n",
    "\"\"\""
   ]
  },
  {
   "cell_type": "code",
   "execution_count": 17,
   "id": "41f9df54-ebfc-42b2-a39e-7375b58742d5",
   "metadata": {},
   "outputs": [
    {
     "data": {
      "text/plain": [
       "'\\nplt.title(\"Model Accuracy vs. Samples\")\\nplt.xscale(\"log\")\\nplt.xlabel(\"Samples\")\\nplt.ylabel(\"Model Accuracy\")\\nplt.ylim(0, 1.0)\\n\\nplt.axhline(dtree(X,y), color=\\'r\\') # plot base accuracy of model\\nplt.plot(samples, , color=\\'g\\') # plot accuracy of dp decision tree\\nplt.plot(samples, accuracies, color=\\'b\\') # plot accuracy of dp synthetic data \\nplt.legend([f\\'Non DP Model (n={len(X)})\\', r\\'$1.0$-DP Model\\', r\\'$1.0, 1e^{-5}$-DP Synthetic Data Model\\']) \\nplt.show()\\n'"
      ]
     },
     "execution_count": 17,
     "metadata": {},
     "output_type": "execute_result"
    }
   ],
   "source": [
    "#TODO: REPLACED BY CELLS BELOW\n",
    "\"\"\"\n",
    "plt.title(\"Model Accuracy vs. Samples\")\n",
    "plt.xscale(\"log\")\n",
    "plt.xlabel(\"Samples\")\n",
    "plt.ylabel(\"Model Accuracy\")\n",
    "plt.ylim(0, 1.0)\n",
    "\n",
    "plt.axhline(dtree(X,y), color='r') # plot base accuracy of model\n",
    "plt.plot(samples, , color='g') # plot accuracy of dp decision tree\n",
    "plt.plot(samples, accuracies, color='b') # plot accuracy of dp synthetic data \n",
    "plt.legend([f'Non DP Model (n={len(X)})', r'$1.0$-DP Model', r'$1.0, 1e^{-5}$-DP Synthetic Data Model']) \n",
    "plt.show()\n",
    "\"\"\""
   ]
  },
  {
   "cell_type": "markdown",
   "id": "67ee635a",
   "metadata": {},
   "source": [
    "## Compare Model Accuracy to Training Dataset Size\n",
    "\n",
    "### Create two synthesizers for each pipeline\n",
    "The synthesizer `big_synth` has `epsilon = 1000` which provides essentially no privacy garuntee by design. This is because this synthetic data is fed into the Differentially Private Decision Tree Classifier which has `epsilon = 1.0`, which is equivalent to the `epsilon` value used in the other pipeline"
   ]
  },
  {
   "cell_type": "code",
   "execution_count": 16,
   "id": "454ff352",
   "metadata": {},
   "outputs": [
    {
     "name": "stdout",
     "output_type": "stream",
     "text": [
      "Spent 0.2 epsilon on preprocessor, leaving 0.8 for training\n",
      "Fitting with 72960000 dimensions\n",
      "Getting cliques\n",
      "Estimating marginals\n",
      "Spent 333.3333333333333 epsilon on preprocessor, leaving 666.6666666666667 for training\n",
      "Fitting with 72960000 dimensions\n",
      "Getting cliques\n",
      "Estimating marginals\n"
     ]
    }
   ],
   "source": [
    "# Create Synthesizer\n",
    "synth = Synthesizer.create(\"mst\", epsilon=1.0, delta=1e-5, verbose=True)\n",
    "synth.fit(maternal_health[['Age', 'SystolicBP', 'DiastolicBP', 'BS', 'BodyTemp', 'HeartRate', 'RiskLevel']], preprocessor_eps=1.0/5) # allocate 1/5 of epsilon to the preprocesser\n",
    "\n",
    "# Unbounded Synthesizer\n",
    "# Create Synthesizer with unbounded epsilon and delta = 1e-5\n",
    "massive_epsilon = 1000\n",
    "big_synth = Synthesizer.create(\"mst\", epsilon=massive_epsilon, delta=1e-5, verbose=True)\n",
    "big_synth.fit(maternal_health[['Age', 'SystolicBP', 'DiastolicBP', 'BS', 'BodyTemp', 'HeartRate', 'RiskLevel']], preprocessor_eps=massive_epsilon/3) # allocate 1/3 of epsilon to the preprocesser\n"
   ]
  },
  {
   "cell_type": "markdown",
   "id": "643a2447",
   "metadata": {},
   "source": [
    "### Gather data points, seperated due to long running time"
   ]
  },
  {
   "cell_type": "code",
   "execution_count": 19,
   "id": "7f188f8a",
   "metadata": {},
   "outputs": [],
   "source": [
    "def noisy_synth_model(sample_amt, synthesizer):\n",
    "    \n",
    "    # Sample it and run it on regular decision tree\n",
    "    syn_data = synthesizer.sample(sample_amt)\n",
    "    X_synth = syn_data[['Age', 'SystolicBP', 'DiastolicBP', 'BS', 'BodyTemp', 'HeartRate']]\n",
    "    y_synth = syn_data['RiskLevel']\n",
    "\n",
    "    clf = DecisionTreeClassifier()\n",
    "    \n",
    "    # Evaluate the model \n",
    "    accuracy = cross_val_score(clf, X_synth, y_synth, cv=10).mean()\n",
    "    return accuracy\n",
    "\n",
    "def noisy_tree_model(epsilon, sample_amt, synthesizer):\n",
    "    \n",
    "    # Sample it and run it on DP decision tree\n",
    "    syn_data = synthesizer.sample(sample_amt)\n",
    "    X_synth = syn_data[['Age', 'SystolicBP', 'DiastolicBP', 'BS', 'BodyTemp', 'HeartRate']]\n",
    "    y_synth = syn_data['RiskLevel']\n",
    "\n",
    "    classes = (0, 1, 2) # 0=low risk, 1=mid risk, 2=high risk\n",
    "    \n",
    "    # Bounds computer with publicly available domain knowlegde\n",
    "    # Age, Systolic BP, Diastolic BP, BS, Body Temp, Heart Rate\n",
    "    bounds = ([1, 50, 50, 60, 95, 60],[125, 170, 170, 130, 103, 100])\n",
    "    \n",
    "    dp_clf = dp.DecisionTreeClassifier(epsilon=epsilon, bounds=bounds, classes=classes)\n",
    "    # Evaluate the model \n",
    "    accuracy = cross_val_score(dp_clf, X_synth, y_synth, cv=10).mean()\n",
    "    return accuracy\n",
    "\n",
    "# Get accuracies for epsilon 1.0 and delta 1e-5\n",
    "sample_range = [10**n for n in range(3, 7)]\n",
    "noisy_synth_accuracies = []\n",
    "noisy_tree_accuracies = []\n",
    "\n",
    "for n in sample_range:\n",
    "    noisy_synth_accuracies.append(noisy_synth_model(n, synth))\n",
    "    noisy_tree_accuracies.append(noisy_tree_model(1.0, n, big_synth))"
   ]
  },
  {
   "cell_type": "markdown",
   "id": "8753f6b6",
   "metadata": {},
   "source": [
    "### Plot the accuracy for each pipeline as the data size increases"
   ]
  },
  {
   "cell_type": "code",
   "execution_count": 22,
   "id": "110284c8",
   "metadata": {},
   "outputs": [
    {
     "data": {
      "image/png": "[encoded data removed]",
      "text/plain": [
       "<Figure size 640x480 with 1 Axes>"
      ]
     },
     "metadata": {},
     "output_type": "display_data"
    }
   ],
   "source": [
    "# Plot\n",
    "plt.title(\"Model Accuracy vs. Data Size\")\n",
    "plt.xscale(\"log\")\n",
    "plt.xlabel(\"Data Size\")\n",
    "plt.ylabel(\"Model Accuracy\")\n",
    "plt.ylim(0, 1.0)\n",
    "\n",
    "plt.plot(sample_range, noisy_synth_accuracies, color='r') # plot accuracy of dp synth\n",
    "plt.plot(sample_range, noisy_tree_accuracies, color='b') # plot accuracy of dp tree\n",
    "plt.axhline(dp_dtree(1.0), color='g') # plot base accuracy of model\n",
    "plt.legend([r'($1.0, 1e^{-5}$)-DP Noisy Synthesizer', r'$1.0$-DP Noisy Classifier', r'$1.0$-DP Noisy Classifier on Original Data']) \n",
    "plt.show()"
   ]
  },
  {
   "cell_type": "markdown",
   "id": "99c55ee8-6946-417a-9c48-f4aa2d93b28c",
   "metadata": {},
   "source": [
    "## Effect of epsilon on DP Model vs DP Synthetic Data Model"
   ]
  },
  {
   "cell_type": "code",
   "execution_count": 27,
   "id": "b121865c-3e35-49f1-bb22-9997c45a121c",
   "metadata": {},
   "outputs": [
    {
     "name": "stdout",
     "output_type": "stream",
     "text": [
      "Spent 0.04 epsilon on preprocessor, leaving 0.16 for training\n",
      "Fitting with 72960000 dimensions\n",
      "Getting cliques\n",
      "Estimating marginals\n",
      "Spent 0.1 epsilon on preprocessor, leaving 0.4 for training\n",
      "Fitting with 72960000 dimensions\n",
      "Getting cliques\n",
      "Estimating marginals\n",
      "Spent 0.2 epsilon on preprocessor, leaving 0.8 for training\n",
      "Fitting with 72960000 dimensions\n",
      "Getting cliques\n",
      "Estimating marginals\n",
      "Spent 1.0 epsilon on preprocessor, leaving 4.0 for training\n",
      "Fitting with 72960000 dimensions\n",
      "Getting cliques\n",
      "Estimating marginals\n",
      "Spent 2.0 epsilon on preprocessor, leaving 8.0 for training\n",
      "Fitting with 72960000 dimensions\n",
      "Getting cliques\n",
      "Estimating marginals\n",
      "Spent 5.0 epsilon on preprocessor, leaving 20.0 for training\n",
      "Fitting with 72960000 dimensions\n",
      "Getting cliques\n",
      "Estimating marginals\n"
     ]
    }
   ],
   "source": [
    "epsilons = [0.2, 0.5, 1.0, 5.0, 10.0, 25.0]\n",
    "dp_dtree_acc = []\n",
    "synth_acc = []\n",
    "for epsilon in epsilons:\n",
    "    dp_dtree_acc.append(dp_dtree(epsilon))\n",
    "    \n",
    "    synth = create_synthesizer(epsilon, 1e-5)\n",
    "    synth_acc.append(dp_synth_dtree(synth, 1000))"
   ]
  },
  {
   "cell_type": "code",
   "execution_count": 29,
   "id": "648cf484-bf48-4284-9961-300f22e26eb6",
   "metadata": {},
   "outputs": [
    {
     "data": {
      "image/png": "[encoded data removed]",
      "text/plain": [
       "<Figure size 640x480 with 1 Axes>"
      ]
     },
     "metadata": {},
     "output_type": "display_data"
    }
   ],
   "source": [
    "plt.title(\"Model Accuracy vs. Epsilon\")\n",
    "plt.xlabel(\"Epsilon\")\n",
    "plt.ylabel(\"Model Accuracy\")\n",
    "plt.ylim(0, 1.0)\n",
    "plt.xscale(\"log\")\n",
    "plt.xticks(epsilons)\n",
    "\n",
    "plt.axhline(dtree(X,y), color='r') # plot base accuracy of model\n",
    "plt.plot(epsilons, dp_dtree_acc, color='g') # plot accuracy of dp decision tree\n",
    "plt.plot(epsilons, synth_acc, color='b') # plot accuracy of dp synthetic data \n",
    "plt.legend([f'Non DP Model', r'DP Model', r'DP Synthetic Data Model']) \n",
    "plt.show()"
   ]
  },
  {
   "cell_type": "code",
   "execution_count": null,
   "id": "c4f23254-081f-4713-8fa1-737c992da088",
   "metadata": {},
   "outputs": [],
   "source": []
  }
 ],
 "metadata": {
  "kernelspec": {
   "display_name": "Python 3 (ipykernel)",
   "language": "python",
   "name": "python3"
  },
  "language_info": {
   "codemirror_mode": {
    "name": "ipython",
    "version": 3
   },
   "file_extension": ".py",
   "mimetype": "text/x-python",
   "name": "python",
   "nbconvert_exporter": "python",
   "pygments_lexer": "ipython3",
   "version": "3.12.4"
  }
 },
 "nbformat": 4,
 "nbformat_minor": 5
}
