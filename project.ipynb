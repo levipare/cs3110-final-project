{
 "cells": [
  {
   "cell_type": "markdown",
   "id": "c7e9c32e-edb7-43f4-9c39-607b27249d9d",
   "metadata": {},
   "source": [
    "## Using SmartNoise Synthesizers to generate synthetic data"
   ]
  },
  {
   "cell_type": "code",
   "execution_count": null,
   "id": "f1ccd2de-e8e9-4b58-b1dc-2d279c300e11",
   "metadata": {
    "scrolled": true
   },
   "outputs": [
    {
     "ename": "Exception",
     "evalue": "Expected exactly one binary to be present. Got: []",
     "output_type": "error",
     "traceback": [
      "\u001b[1;31m---------------------------------------------------------------------------\u001b[0m",
      "\u001b[1;31mException\u001b[0m                                 Traceback (most recent call last)",
      "Cell \u001b[1;32mIn[12], line 1\u001b[0m\n\u001b[1;32m----> 1\u001b[0m \u001b[38;5;28;01mfrom\u001b[39;00m \u001b[38;5;21;01msnsynth\u001b[39;00m \u001b[38;5;28;01mimport\u001b[39;00m Synthesizer \u001b[38;5;66;03m# TODO: GETTING WIERD ERROR HERE, ANYONE ELSE?\u001b[39;00m\n\u001b[0;32m      2\u001b[0m \u001b[38;5;28;01mimport\u001b[39;00m \u001b[38;5;21;01mpandas\u001b[39;00m \u001b[38;5;28;01mas\u001b[39;00m \u001b[38;5;21;01mpd\u001b[39;00m\n\u001b[0;32m      4\u001b[0m data \u001b[38;5;241m=\u001b[39m pd\u001b[38;5;241m.\u001b[39mread_csv(\u001b[38;5;124m\"\u001b[39m\u001b[38;5;124mmaternalHealthDataSet.csv\u001b[39m\u001b[38;5;124m\"\u001b[39m)\n",
      "File \u001b[1;32mc:\\Users\\jack\\OneDrive\\Desktop\\cs3110\\cs3110-final-project\\.venv\\Lib\\site-packages\\snsynth\\__init__.py:1\u001b[0m\n\u001b[1;32m----> 1\u001b[0m \u001b[38;5;28;01mfrom\u001b[39;00m \u001b[38;5;21;01m.\u001b[39;00m\u001b[38;5;21;01mbase\u001b[39;00m \u001b[38;5;28;01mimport\u001b[39;00m Synthesizer\n\u001b[0;32m      2\u001b[0m \u001b[38;5;28;01mfrom\u001b[39;00m \u001b[38;5;21;01m.\u001b[39;00m\u001b[38;5;21;01mtransform\u001b[39;00m\u001b[38;5;21;01m.\u001b[39;00m\u001b[38;5;21;01mtable\u001b[39;00m \u001b[38;5;28;01mimport\u001b[39;00m TableTransformer\n\u001b[0;32m      5\u001b[0m __all__ \u001b[38;5;241m=\u001b[39m [\u001b[38;5;124m\"\u001b[39m\u001b[38;5;124mSynthesizer\u001b[39m\u001b[38;5;124m\"\u001b[39m, \u001b[38;5;124m\"\u001b[39m\u001b[38;5;124mTableTransformer\u001b[39m\u001b[38;5;124m\"\u001b[39m]\n",
      "File \u001b[1;32mc:\\Users\\jack\\OneDrive\\Desktop\\cs3110\\cs3110-final-project\\.venv\\Lib\\site-packages\\snsynth\\base.py:4\u001b[0m\n\u001b[0;32m      1\u001b[0m \u001b[38;5;28;01mimport\u001b[39;00m \u001b[38;5;21;01mpandas\u001b[39;00m \u001b[38;5;28;01mas\u001b[39;00m \u001b[38;5;21;01mpd\u001b[39;00m\n\u001b[0;32m      2\u001b[0m \u001b[38;5;28;01mimport\u001b[39;00m \u001b[38;5;21;01mnumpy\u001b[39;00m \u001b[38;5;28;01mas\u001b[39;00m \u001b[38;5;21;01mnp\u001b[39;00m\n\u001b[1;32m----> 4\u001b[0m \u001b[38;5;28;01mfrom\u001b[39;00m \u001b[38;5;21;01msnsynth\u001b[39;00m\u001b[38;5;21;01m.\u001b[39;00m\u001b[38;5;21;01mtransform\u001b[39;00m\u001b[38;5;21;01m.\u001b[39;00m\u001b[38;5;21;01mtable\u001b[39;00m \u001b[38;5;28;01mimport\u001b[39;00m TableTransformer\n\u001b[0;32m      5\u001b[0m \u001b[38;5;28;01mfrom\u001b[39;00m \u001b[38;5;21;01msnsql\u001b[39;00m\u001b[38;5;21;01m.\u001b[39;00m\u001b[38;5;21;01msql\u001b[39;00m\u001b[38;5;21;01m.\u001b[39;00m\u001b[38;5;21;01mparse\u001b[39;00m \u001b[38;5;28;01mimport\u001b[39;00m QueryParser\n\u001b[0;32m      8\u001b[0m \u001b[38;5;28;01mclass\u001b[39;00m \u001b[38;5;21;01mSDGYMBaseSynthesizer\u001b[39;00m:\n",
      "File \u001b[1;32mc:\\Users\\jack\\OneDrive\\Desktop\\cs3110\\cs3110-final-project\\.venv\\Lib\\site-packages\\snsynth\\transform\\__init__.py:1\u001b[0m\n\u001b[1;32m----> 1\u001b[0m \u001b[38;5;28;01mfrom\u001b[39;00m \u001b[38;5;21;01m.\u001b[39;00m\u001b[38;5;21;01mtable\u001b[39;00m \u001b[38;5;28;01mimport\u001b[39;00m TableTransformer\n\u001b[0;32m      2\u001b[0m \u001b[38;5;28;01mfrom\u001b[39;00m \u001b[38;5;21;01m.\u001b[39;00m\u001b[38;5;21;01monehot\u001b[39;00m \u001b[38;5;28;01mimport\u001b[39;00m OneHotEncoder\n\u001b[0;32m      3\u001b[0m \u001b[38;5;28;01mfrom\u001b[39;00m \u001b[38;5;21;01m.\u001b[39;00m\u001b[38;5;21;01mlabel\u001b[39;00m \u001b[38;5;28;01mimport\u001b[39;00m LabelTransformer\n",
      "File \u001b[1;32mc:\\Users\\jack\\OneDrive\\Desktop\\cs3110\\cs3110-final-project\\.venv\\Lib\\site-packages\\snsynth\\transform\\table.py:5\u001b[0m\n\u001b[0;32m      2\u001b[0m \u001b[38;5;28;01mimport\u001b[39;00m \u001b[38;5;21;01mnumpy\u001b[39;00m \u001b[38;5;28;01mas\u001b[39;00m \u001b[38;5;21;01mnp\u001b[39;00m\n\u001b[0;32m      3\u001b[0m \u001b[38;5;28;01mimport\u001b[39;00m \u001b[38;5;21;01mwarnings\u001b[39;00m\n\u001b[1;32m----> 5\u001b[0m \u001b[38;5;28;01mfrom\u001b[39;00m \u001b[38;5;21;01msnsql\u001b[39;00m\u001b[38;5;21;01m.\u001b[39;00m\u001b[38;5;21;01msql\u001b[39;00m\u001b[38;5;21;01m.\u001b[39;00m\u001b[38;5;21;01modometer\u001b[39;00m \u001b[38;5;28;01mimport\u001b[39;00m OdometerHeterogeneous\n\u001b[0;32m      6\u001b[0m \u001b[38;5;28;01mfrom\u001b[39;00m \u001b[38;5;21;01msnsql\u001b[39;00m\u001b[38;5;21;01m.\u001b[39;00m\u001b[38;5;21;01msql\u001b[39;00m\u001b[38;5;21;01m.\u001b[39;00m\u001b[38;5;21;01mprivacy\u001b[39;00m \u001b[38;5;28;01mimport\u001b[39;00m Privacy\n\u001b[0;32m      8\u001b[0m \u001b[38;5;28;01mfrom\u001b[39;00m \u001b[38;5;21;01m.\u001b[39;00m\u001b[38;5;21;01manonymization\u001b[39;00m \u001b[38;5;28;01mimport\u001b[39;00m AnonymizationTransformer\n",
      "File \u001b[1;32mc:\\Users\\jack\\OneDrive\\Desktop\\cs3110\\cs3110-final-project\\.venv\\Lib\\site-packages\\snsql\\__init__.py:1\u001b[0m\n\u001b[1;32m----> 1\u001b[0m \u001b[38;5;28;01mfrom\u001b[39;00m \u001b[38;5;21;01m.\u001b[39;00m\u001b[38;5;21;01mconnect\u001b[39;00m \u001b[38;5;28;01mimport\u001b[39;00m from_connection, from_df\n\u001b[0;32m      2\u001b[0m \u001b[38;5;28;01mfrom\u001b[39;00m \u001b[38;5;21;01m.\u001b[39;00m\u001b[38;5;21;01msql\u001b[39;00m\u001b[38;5;21;01m.\u001b[39;00m\u001b[38;5;21;01mprivacy\u001b[39;00m \u001b[38;5;28;01mimport\u001b[39;00m Privacy, Stat\n\u001b[0;32m      3\u001b[0m \u001b[38;5;28;01mfrom\u001b[39;00m \u001b[38;5;21;01m.\u001b[39;00m\u001b[38;5;21;01msql\u001b[39;00m\u001b[38;5;21;01m.\u001b[39;00m\u001b[38;5;21;01m_mechanisms\u001b[39;00m\u001b[38;5;21;01m.\u001b[39;00m\u001b[38;5;21;01mbase\u001b[39;00m \u001b[38;5;28;01mimport\u001b[39;00m Mechanism\n",
      "File \u001b[1;32mc:\\Users\\jack\\OneDrive\\Desktop\\cs3110\\cs3110-final-project\\.venv\\Lib\\site-packages\\snsql\\connect.py:1\u001b[0m\n\u001b[1;32m----> 1\u001b[0m \u001b[38;5;28;01mfrom\u001b[39;00m \u001b[38;5;21;01m.\u001b[39;00m\u001b[38;5;21;01msql\u001b[39;00m\u001b[38;5;21;01m.\u001b[39;00m\u001b[38;5;21;01mprivate_reader\u001b[39;00m \u001b[38;5;28;01mimport\u001b[39;00m PrivateReader\n\u001b[0;32m      3\u001b[0m \u001b[38;5;28;01mdef\u001b[39;00m \u001b[38;5;21mfrom_df\u001b[39m(df, \u001b[38;5;241m*\u001b[39mignore, privacy, metadata, \u001b[38;5;241m*\u001b[39m\u001b[38;5;241m*\u001b[39mkwargs):\n\u001b[0;32m      4\u001b[0m \u001b[38;5;250m    \u001b[39m\u001b[38;5;124;03m\"\"\"Open a private SQL connection against a Pandas DataFrame.\u001b[39;00m\n\u001b[0;32m      5\u001b[0m \n\u001b[0;32m      6\u001b[0m \u001b[38;5;124;03m    .. code-block:: python\u001b[39;00m\n\u001b[1;32m   (...)\u001b[0m\n\u001b[0;32m     25\u001b[0m \n\u001b[0;32m     26\u001b[0m \u001b[38;5;124;03m    \"\"\"\u001b[39;00m\n",
      "File \u001b[1;32mc:\\Users\\jack\\OneDrive\\Desktop\\cs3110\\cs3110-final-project\\.venv\\Lib\\site-packages\\snsql\\sql\\__init__.py:1\u001b[0m\n\u001b[1;32m----> 1\u001b[0m \u001b[38;5;28;01mfrom\u001b[39;00m \u001b[38;5;21;01m.\u001b[39;00m\u001b[38;5;21;01mprivate_reader\u001b[39;00m \u001b[38;5;28;01mimport\u001b[39;00m PrivateReader\n",
      "File \u001b[1;32mc:\\Users\\jack\\OneDrive\\Desktop\\cs3110\\cs3110-final-project\\.venv\\Lib\\site-packages\\snsql\\sql\\private_reader.py:6\u001b[0m\n\u001b[0;32m      4\u001b[0m \u001b[38;5;28;01mimport\u001b[39;00m \u001b[38;5;21;01mnumpy\u001b[39;00m \u001b[38;5;28;01mas\u001b[39;00m \u001b[38;5;21;01mnp\u001b[39;00m\n\u001b[0;32m      5\u001b[0m \u001b[38;5;28;01mfrom\u001b[39;00m \u001b[38;5;21;01msnsql\u001b[39;00m\u001b[38;5;21;01m.\u001b[39;00m\u001b[38;5;21;01mmetadata\u001b[39;00m \u001b[38;5;28;01mimport\u001b[39;00m Metadata\n\u001b[1;32m----> 6\u001b[0m \u001b[38;5;28;01mfrom\u001b[39;00m \u001b[38;5;21;01msnsql\u001b[39;00m\u001b[38;5;21;01m.\u001b[39;00m\u001b[38;5;21;01msql\u001b[39;00m\u001b[38;5;21;01m.\u001b[39;00m\u001b[38;5;21;01modometer\u001b[39;00m \u001b[38;5;28;01mimport\u001b[39;00m OdometerHeterogeneous\n\u001b[0;32m      7\u001b[0m \u001b[38;5;28;01mfrom\u001b[39;00m \u001b[38;5;21;01msnsql\u001b[39;00m\u001b[38;5;21;01m.\u001b[39;00m\u001b[38;5;21;01msql\u001b[39;00m\u001b[38;5;21;01m.\u001b[39;00m\u001b[38;5;21;01mprivacy\u001b[39;00m \u001b[38;5;28;01mimport\u001b[39;00m Privacy, Stat\n\u001b[0;32m      9\u001b[0m \u001b[38;5;28;01mfrom\u001b[39;00m \u001b[38;5;21;01msnsql\u001b[39;00m\u001b[38;5;21;01m.\u001b[39;00m\u001b[38;5;21;01msql\u001b[39;00m\u001b[38;5;21;01m.\u001b[39;00m\u001b[38;5;21;01mreader\u001b[39;00m\u001b[38;5;21;01m.\u001b[39;00m\u001b[38;5;21;01mbase\u001b[39;00m \u001b[38;5;28;01mimport\u001b[39;00m SqlReader\n",
      "File \u001b[1;32mc:\\Users\\jack\\OneDrive\\Desktop\\cs3110\\cs3110-final-project\\.venv\\Lib\\site-packages\\snsql\\sql\\odometer.py:2\u001b[0m\n\u001b[0;32m      1\u001b[0m \u001b[38;5;28;01mimport\u001b[39;00m \u001b[38;5;21;01mnumpy\u001b[39;00m \u001b[38;5;28;01mas\u001b[39;00m \u001b[38;5;21;01mnp\u001b[39;00m\n\u001b[1;32m----> 2\u001b[0m \u001b[38;5;28;01mfrom\u001b[39;00m \u001b[38;5;21;01msnsql\u001b[39;00m\u001b[38;5;21;01m.\u001b[39;00m\u001b[38;5;21;01msql\u001b[39;00m\u001b[38;5;21;01m.\u001b[39;00m\u001b[38;5;21;01mprivacy\u001b[39;00m \u001b[38;5;28;01mimport\u001b[39;00m Privacy\n\u001b[0;32m      4\u001b[0m \u001b[38;5;28;01mclass\u001b[39;00m \u001b[38;5;21;01mOdometer\u001b[39;00m:\n\u001b[0;32m      5\u001b[0m \u001b[38;5;250m    \u001b[39m\u001b[38;5;124;03m\"\"\"\u001b[39;00m\n\u001b[0;32m      6\u001b[0m \u001b[38;5;124;03m    Implements k-folds homogeneous composition from Kairouz, et al\u001b[39;00m\n\u001b[0;32m      7\u001b[0m \u001b[38;5;124;03m    Theorem 3.4\u001b[39;00m\n\u001b[0;32m      8\u001b[0m \u001b[38;5;124;03m    https://arxiv.org/pdf/1311.0776.pdf\u001b[39;00m\n\u001b[0;32m      9\u001b[0m \u001b[38;5;124;03m    \"\"\"\u001b[39;00m\n",
      "File \u001b[1;32mc:\\Users\\jack\\OneDrive\\Desktop\\cs3110\\cs3110-final-project\\.venv\\Lib\\site-packages\\snsql\\sql\\privacy.py:2\u001b[0m\n\u001b[0;32m      1\u001b[0m \u001b[38;5;28;01mfrom\u001b[39;00m \u001b[38;5;21;01mtyping\u001b[39;00m \u001b[38;5;28;01mimport\u001b[39;00m List\n\u001b[1;32m----> 2\u001b[0m \u001b[38;5;28;01mfrom\u001b[39;00m \u001b[38;5;21;01m.\u001b[39;00m\u001b[38;5;21;01m_mechanisms\u001b[39;00m \u001b[38;5;28;01mimport\u001b[39;00m \u001b[38;5;241m*\u001b[39m\n\u001b[0;32m      3\u001b[0m \u001b[38;5;28;01mfrom\u001b[39;00m \u001b[38;5;21;01menum\u001b[39;00m \u001b[38;5;28;01mimport\u001b[39;00m Enum\n\u001b[0;32m      4\u001b[0m \u001b[38;5;28;01mimport\u001b[39;00m \u001b[38;5;21;01mnumpy\u001b[39;00m \u001b[38;5;28;01mas\u001b[39;00m \u001b[38;5;21;01mnp\u001b[39;00m\n",
      "File \u001b[1;32mc:\\Users\\jack\\OneDrive\\Desktop\\cs3110\\cs3110-final-project\\.venv\\Lib\\site-packages\\snsql\\sql\\_mechanisms\\__init__.py:1\u001b[0m\n\u001b[1;32m----> 1\u001b[0m \u001b[38;5;28;01mfrom\u001b[39;00m \u001b[38;5;21;01m.\u001b[39;00m\u001b[38;5;21;01mlaplace\u001b[39;00m \u001b[38;5;28;01mimport\u001b[39;00m Laplace\n\u001b[0;32m      2\u001b[0m \u001b[38;5;28;01mfrom\u001b[39;00m \u001b[38;5;21;01m.\u001b[39;00m\u001b[38;5;21;01mgaussian\u001b[39;00m \u001b[38;5;28;01mimport\u001b[39;00m Gaussian\n\u001b[0;32m      3\u001b[0m \u001b[38;5;28;01mfrom\u001b[39;00m \u001b[38;5;21;01m.\u001b[39;00m\u001b[38;5;21;01mbase\u001b[39;00m \u001b[38;5;28;01mimport\u001b[39;00m Mechanism, Unbounded\n",
      "File \u001b[1;32mc:\\Users\\jack\\OneDrive\\Desktop\\cs3110\\cs3110-final-project\\.venv\\Lib\\site-packages\\snsql\\sql\\_mechanisms\\laplace.py:3\u001b[0m\n\u001b[0;32m      1\u001b[0m \u001b[38;5;28;01mimport\u001b[39;00m \u001b[38;5;21;01mmath\u001b[39;00m\n\u001b[1;32m----> 3\u001b[0m \u001b[38;5;28;01mfrom\u001b[39;00m \u001b[38;5;21;01mopendp\u001b[39;00m\u001b[38;5;21;01m.\u001b[39;00m\u001b[38;5;21;01mtransformations\u001b[39;00m \u001b[38;5;28;01mimport\u001b[39;00m make_sum, make_clamp\n\u001b[0;32m      4\u001b[0m \u001b[38;5;28;01mfrom\u001b[39;00m \u001b[38;5;21;01m.\u001b[39;00m\u001b[38;5;21;01mbase\u001b[39;00m \u001b[38;5;28;01mimport\u001b[39;00m AdditiveNoiseMechanism, Mechanism\n\u001b[0;32m      5\u001b[0m \u001b[38;5;28;01mfrom\u001b[39;00m \u001b[38;5;21;01mopendp\u001b[39;00m\u001b[38;5;21;01m.\u001b[39;00m\u001b[38;5;21;01mmod\u001b[39;00m \u001b[38;5;28;01mimport\u001b[39;00m binary_search_param, enable_features\n",
      "File \u001b[1;32mc:\\Users\\jack\\OneDrive\\Desktop\\cs3110\\cs3110-final-project\\.venv\\Lib\\site-packages\\opendp\\__init__.py:1\u001b[0m\n\u001b[1;32m----> 1\u001b[0m \u001b[38;5;28;01mfrom\u001b[39;00m \u001b[38;5;21;01mopendp\u001b[39;00m\u001b[38;5;21;01m.\u001b[39;00m\u001b[38;5;21;01mmod\u001b[39;00m \u001b[38;5;28;01mimport\u001b[39;00m Transformation, Measurement, OpenDPException, UnknownTypeException\n",
      "File \u001b[1;32mc:\\Users\\jack\\OneDrive\\Desktop\\cs3110\\cs3110-final-project\\.venv\\Lib\\site-packages\\opendp\\mod.py:13\u001b[0m\n\u001b[0;32m     10\u001b[0m \u001b[38;5;28;01mimport\u001b[39;00m \u001b[38;5;21;01mctypes\u001b[39;00m\n\u001b[0;32m     11\u001b[0m \u001b[38;5;28;01mfrom\u001b[39;00m \u001b[38;5;21;01mtyping\u001b[39;00m \u001b[38;5;28;01mimport\u001b[39;00m Any, Literal, Type, TypeVar, Union, Callable, Optional, overload, TYPE_CHECKING, cast\n\u001b[1;32m---> 13\u001b[0m \u001b[38;5;28;01mfrom\u001b[39;00m \u001b[38;5;21;01mopendp\u001b[39;00m\u001b[38;5;21;01m.\u001b[39;00m\u001b[38;5;21;01m_lib\u001b[39;00m \u001b[38;5;28;01mimport\u001b[39;00m AnyMeasurement, AnyTransformation, AnyDomain, AnyMetric, AnyMeasure, AnyFunction\n\u001b[0;32m     15\u001b[0m \u001b[38;5;66;03m# https://mypy.readthedocs.io/en/stable/runtime_troubles.html#import-cycles\u001b[39;00m\n\u001b[0;32m     16\u001b[0m \u001b[38;5;28;01mif\u001b[39;00m TYPE_CHECKING:\n",
      "File \u001b[1;32mc:\\Users\\jack\\OneDrive\\Desktop\\cs3110\\cs3110-final-project\\.venv\\Lib\\site-packages\\opendp\\_lib.py:46\u001b[0m\n\u001b[0;32m     42\u001b[0m     \u001b[38;5;28;01melse\u001b[39;00m:\n\u001b[0;32m     43\u001b[0m         \u001b[38;5;28;01mraise\u001b[39;00m \u001b[38;5;167;01mValueError\u001b[39;00m(\u001b[38;5;124m\"\u001b[39m\u001b[38;5;124mUnable to find lib directory. Consider setting OPENDP_LIB_DIR to a valid directory.\u001b[39m\u001b[38;5;124m\"\u001b[39m)\n\u001b[1;32m---> 46\u001b[0m lib, lib_path \u001b[38;5;241m=\u001b[39m \u001b[43m_load_library\u001b[49m\u001b[43m(\u001b[49m\u001b[43m)\u001b[49m\n\u001b[0;32m     49\u001b[0m install_names \u001b[38;5;241m=\u001b[39m {\n\u001b[0;32m     50\u001b[0m     \u001b[38;5;124m'\u001b[39m\u001b[38;5;124msklearn\u001b[39m\u001b[38;5;124m'\u001b[39m: \u001b[38;5;124m'\u001b[39m\u001b[38;5;124mscikit-learn\u001b[39m\u001b[38;5;124m'\u001b[39m\n\u001b[0;32m     51\u001b[0m }\n\u001b[0;32m     54\u001b[0m \u001b[38;5;28;01mdef\u001b[39;00m \u001b[38;5;21mimport_optional_dependency\u001b[39m(name, raise_error\u001b[38;5;241m=\u001b[39m\u001b[38;5;28;01mTrue\u001b[39;00m):\n",
      "File \u001b[1;32mc:\\Users\\jack\\OneDrive\\Desktop\\cs3110\\cs3110-final-project\\.venv\\Lib\\site-packages\\opendp\\_lib.py:31\u001b[0m, in \u001b[0;36m_load_library\u001b[1;34m()\u001b[0m\n\u001b[0;32m     29\u001b[0m lib_dir_file_names \u001b[38;5;241m=\u001b[39m [p \u001b[38;5;28;01mfor\u001b[39;00m p \u001b[38;5;129;01min\u001b[39;00m lib_dir\u001b[38;5;241m.\u001b[39miterdir() \u001b[38;5;28;01mif\u001b[39;00m p\u001b[38;5;241m.\u001b[39msuffix \u001b[38;5;129;01min\u001b[39;00m {\u001b[38;5;124m\"\u001b[39m\u001b[38;5;124m.so\u001b[39m\u001b[38;5;124m\"\u001b[39m, \u001b[38;5;124m\"\u001b[39m\u001b[38;5;124m.dylib\u001b[39m\u001b[38;5;124m\"\u001b[39m, \u001b[38;5;124m\"\u001b[39m\u001b[38;5;124m.dll\u001b[39m\u001b[38;5;124m\"\u001b[39m}]\n\u001b[0;32m     30\u001b[0m \u001b[38;5;28;01mif\u001b[39;00m \u001b[38;5;28mlen\u001b[39m(lib_dir_file_names) \u001b[38;5;241m!=\u001b[39m \u001b[38;5;241m1\u001b[39m:\n\u001b[1;32m---> 31\u001b[0m     \u001b[38;5;28;01mraise\u001b[39;00m \u001b[38;5;167;01mException\u001b[39;00m(\u001b[38;5;124mf\u001b[39m\u001b[38;5;124m\"\u001b[39m\u001b[38;5;124mExpected exactly one binary to be present. Got: \u001b[39m\u001b[38;5;132;01m{\u001b[39;00mlib_dir_file_names\u001b[38;5;132;01m}\u001b[39;00m\u001b[38;5;124m\"\u001b[39m)\n\u001b[0;32m     33\u001b[0m lib_path \u001b[38;5;241m=\u001b[39m lib_dir \u001b[38;5;241m/\u001b[39m lib_dir_file_names[\u001b[38;5;241m0\u001b[39m]\n\u001b[0;32m     34\u001b[0m \u001b[38;5;28;01mtry\u001b[39;00m:\n",
      "\u001b[1;31mException\u001b[0m: Expected exactly one binary to be present. Got: []"
     ]
    }
   ],
   "source": [
    "from snsynth import Synthesizer # TODO: Exception: Expected exactly one binary to be present. Got: []\n",
    "import pandas as pd\n",
    "\n",
    "data = pd.read_csv(\"maternalHealthDataSet.csv\")\n",
    "\n",
    "# MST synthesizer is used here since it took 1st place in NIST's DP syntehtic data contest\n",
    "synth = Synthesizer.create(\"mst\", epsilon=1.0, delta=1e-5, verbose=True)\n",
    "synth.fit(data, preprocessor_eps=0.2)\n",
    "data_synth = synth.sample(1000)\n",
    "data_synth"
   ]
  },
  {
   "cell_type": "markdown",
   "id": "64892a9d-cbb7-4383-9a50-ffdc8aeebfa1",
   "metadata": {},
   "source": [
    "# Comparing non-dp decision tree vs dp decision tree"
   ]
  },
  {
   "cell_type": "code",
   "execution_count": 8,
   "id": "13536aae-afd6-4120-b21d-e1238a079368",
   "metadata": {},
   "outputs": [],
   "source": [
    "import pandas as pd\n",
    "import numpy as np\n",
    "import matplotlib.pyplot as plt\n",
    "from sklearn.tree import DecisionTreeClassifier\n",
    "from sklearn.model_selection import train_test_split\n",
    "from sklearn.metrics import accuracy_score\n",
    "import diffprivlib.models as dp\n",
    "\n",
    "maternal_health = pd.read_csv('maternalHealthDataSet.csv')"
   ]
  },
  {
   "cell_type": "code",
   "execution_count": 9,
   "id": "a5f42a83-f915-46a0-ab1b-0a8535549b51",
   "metadata": {},
   "outputs": [],
   "source": [
    "X = maternal_health[['Age', 'SystolicBP', 'DiastolicBP', 'BS', 'BodyTemp', 'HeartRate']]\n",
    "y = maternal_health['RiskLevel']\n",
    "\n",
    "# Split data into train/test sets\n",
    "X_train, X_test, y_train, y_test = train_test_split(X, y, test_size=0.2)"
   ]
  },
  {
   "cell_type": "markdown",
   "id": "5a60aef5-0dc7-43d0-8c2f-8f73c2fa2f9f",
   "metadata": {},
   "source": [
    "## Method 0 (No noise added)"
   ]
  },
  {
   "cell_type": "code",
   "execution_count": 10,
   "id": "f9a96963-d3e1-48c9-be3e-b171cf8c4101",
   "metadata": {},
   "outputs": [
    {
     "name": "stdout",
     "output_type": "stream",
     "text": [
      "Accuracy: 0.86\n"
     ]
    }
   ],
   "source": [
    "clf = DecisionTreeClassifier()\n",
    "clf.fit(X_train, y_train)\n",
    "\n",
    "# Evaluate the model \n",
    "accuracy = clf.score(X_test, y_test)\n",
    "print(f'Accuracy: {accuracy:.2f}')"
   ]
  },
  {
   "cell_type": "markdown",
   "id": "8425ac9e-330b-4b79-b352-56f3759b3433",
   "metadata": {},
   "source": [
    "## Method 1 (BASE CASE) (DP Decision Tree, Original Data)"
   ]
  },
  {
   "cell_type": "code",
   "execution_count": null,
   "id": "df540317-dae9-4a3c-94af-379e0c516a0e",
   "metadata": {
    "scrolled": true
   },
   "outputs": [
    {
     "ename": "NameError",
     "evalue": "name 'bounds' is not defined",
     "output_type": "error",
     "traceback": [
      "\u001b[1;31m---------------------------------------------------------------------------\u001b[0m",
      "\u001b[1;31mNameError\u001b[0m                                 Traceback (most recent call last)",
      "Cell \u001b[1;32mIn[11], line 1\u001b[0m\n\u001b[1;32m----> 1\u001b[0m dp_clf \u001b[38;5;241m=\u001b[39m dp\u001b[38;5;241m.\u001b[39mDecisionTreeClassifier(epsilon\u001b[38;5;241m=\u001b[39m\u001b[38;5;241m1\u001b[39m, bounds\u001b[38;5;241m=\u001b[39m\u001b[43mbounds\u001b[49m, classes\u001b[38;5;241m=\u001b[39mclasses)\n\u001b[0;32m      2\u001b[0m dp_clf\u001b[38;5;241m.\u001b[39mfit(X_train, y_train)\n\u001b[0;32m      4\u001b[0m \u001b[38;5;66;03m# Evaluate the model\u001b[39;00m\n",
      "\u001b[1;31mNameError\u001b[0m: name 'bounds' is not defined"
     ]
    }
   ],
   "source": [
    "classes = ['low risk','mid risk','hgih risk']\n",
    "# TODO: BOUNDS NEED TO BE COMPUTED WITH DP\n",
    "dp_clf = dp.DecisionTreeClassifier(epsilon=1, bounds=bounds, classes=classes)\n",
    "dp_clf.fit(X_train, y_train)\n",
    "\n",
    "# Evaluate the model\n",
    "accuracy = dp_clf.score(X_test, y_test)\n",
    "print(f'Accuracy: {accuracy:.2f}')"
   ]
  },
  {
   "cell_type": "markdown",
   "id": "e9d32dee-8640-4096-8fc5-7e9bc4c371f5",
   "metadata": {},
   "source": [
    "## Method 2 (NON DP Synthetic Data, DP Decision Tree)"
   ]
  },
  {
   "cell_type": "code",
   "execution_count": null,
   "id": "df87d35c-a4ca-4757-9de8-678a3cca97cf",
   "metadata": {},
   "outputs": [],
   "source": [
    "#code"
   ]
  },
  {
   "cell_type": "markdown",
   "id": "bba80f88-9563-470f-a847-d2e36836a7db",
   "metadata": {},
   "source": [
    "## Method 3 (DP Synthetic Data, Non DP Decision Tree"
   ]
  },
  {
   "cell_type": "code",
   "execution_count": null,
   "id": "bf5b3a74-1f97-406e-a1e2-0530d3e697b4",
   "metadata": {},
   "outputs": [],
   "source": [
    "#code"
   ]
  }
 ],
 "metadata": {
  "kernelspec": {
   "display_name": "Python 3 (ipykernel)",
   "language": "python",
   "name": "python3"
  },
  "language_info": {
   "codemirror_mode": {
    "name": "ipython",
    "version": 3
   },
   "file_extension": ".py",
   "mimetype": "text/x-python",
   "name": "python",
   "nbconvert_exporter": "python",
   "pygments_lexer": "ipython3",
   "version": "3.12.4"
  }
 },
 "nbformat": 4,
 "nbformat_minor": 5
}
