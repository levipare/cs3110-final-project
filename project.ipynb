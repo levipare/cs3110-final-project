{
 "cells": [
  {
   "cell_type": "markdown",
   "id": "64892a9d-cbb7-4383-9a50-ffdc8aeebfa1",
   "metadata": {},
   "source": [
    "# Comparing non-dp decision tree vs dp decision tree"
   ]
  },
  {
   "cell_type": "code",
   "execution_count": 2,
   "id": "13536aae-afd6-4120-b21d-e1238a079368",
   "metadata": {},
   "outputs": [],
   "source": [
    "import pandas as pd\n",
    "import numpy as np\n",
    "import matplotlib.pyplot as plt\n",
    "from sklearn.tree import DecisionTreeClassifier\n",
    "from sklearn.model_selection import cross_val_score\n",
    "import diffprivlib.models as dp\n",
    "from snsynth import Synthesizer"
   ]
  },
  {
   "cell_type": "code",
   "execution_count": 3,
   "id": "d3194106-3719-465b-95e2-6fffc8973076",
   "metadata": {},
   "outputs": [],
   "source": [
    "# Original data\n",
    "maternal_health = pd.read_csv('maternalHealthDataSet.csv')\n",
    "X = maternal_health[['Age', 'SystolicBP', 'DiastolicBP', 'BS', 'BodyTemp', 'HeartRate']]\n",
    "y = maternal_health['RiskLevel']"
   ]
  },
  {
   "cell_type": "markdown",
   "id": "5a60aef5-0dc7-43d0-8c2f-8f73c2fa2f9f",
   "metadata": {},
   "source": [
    "## Method 0 (No noise added)"
   ]
  },
  {
   "cell_type": "code",
   "execution_count": 6,
   "id": "f9a96963-d3e1-48c9-be3e-b171cf8c4101",
   "metadata": {},
   "outputs": [
    {
     "data": {
      "text/plain": [
       "0.8124344787419918"
      ]
     },
     "execution_count": 6,
     "metadata": {},
     "output_type": "execute_result"
    }
   ],
   "source": [
    "def dtree(X, y):\n",
    "    clf = DecisionTreeClassifier()\n",
    "    \n",
    "    # Evaluate the model \n",
    "    accuracy = cross_val_score(clf, X, y, cv=10).mean()\n",
    "    return accuracy\n",
    "\n",
    "dtree(X, y)"
   ]
  },
  {
   "cell_type": "markdown",
   "id": "8425ac9e-330b-4b79-b352-56f3759b3433",
   "metadata": {},
   "source": [
    "## Method 1 (BASE CASE) (DP Decision Tree, Original Data)"
   ]
  },
  {
   "cell_type": "code",
   "execution_count": 4,
   "id": "df540317-dae9-4a3c-94af-379e0c516a0e",
   "metadata": {
    "scrolled": true
   },
   "outputs": [
    {
     "data": {
      "text/plain": [
       "0.4930887206367697"
      ]
     },
     "execution_count": 4,
     "metadata": {},
     "output_type": "execute_result"
    }
   ],
   "source": [
    "def dp_dtree(epsilon):\n",
    "    classes = (0, 1, 2) # 0=low risk, 1=mid risk, 2=high risk\n",
    "    \n",
    "    # Bounds computer with publicly available domain knowlegde\n",
    "    # Age, Systolic BP, Diastolic BP, BS, Body Temp, Heart Rate\n",
    "    bounds = ([1, 50, 50, 60, 95, 60],[125, 170, 170, 130, 103, 100])\n",
    "    \n",
    "    \n",
    "    dp_clf = dp.DecisionTreeClassifier(epsilon=epsilon, bounds=bounds, classes=classes)\n",
    "    # Evaluate the model \n",
    "    accuracy = cross_val_score(dp_clf, X, y, cv=10).mean()\n",
    "    return accuracy\n",
    "    \n",
    "dp_dtree(1.0)"
   ]
  },
  {
   "cell_type": "code",
   "execution_count": 11,
   "id": "3e07ec85-40f9-4d13-bfbd-9386a03856c1",
   "metadata": {},
   "outputs": [],
   "source": [
    "def create_synthesizer(epsilon, delta):\n",
    "    # MST synthesizer is used here since it took 1st place in NIST's DP syntehtic data contest\n",
    "    synth = Synthesizer.create(\"mst\", epsilon=epsilon, delta=delta, verbose=True)\n",
    "    synth.fit(maternal_health[['Age', 'SystolicBP', 'DiastolicBP', 'BS', 'BodyTemp', 'HeartRate', 'RiskLevel']], preprocessor_eps=epsilon/5) # allocate 1/5 of epsilon to the preprocesser\n",
    "    return synth\n",
    "\n",
    "def dp_synth_dtree(synth, samples):\n",
    "    data = synth.sample(samples)\n",
    "    X_synth = data[['Age', 'SystolicBP', 'DiastolicBP', 'BS', 'BodyTemp', 'HeartRate']]\n",
    "    y_synth = data['RiskLevel']\n",
    "    return dtree(X_synth, y_synth)"
   ]
  },
  {
   "cell_type": "markdown",
   "id": "f46def30-1e7e-4f26-b78f-d7a173693dd9",
   "metadata": {},
   "source": [
    "## Effect of samples on models trained with synthetic data"
   ]
  },
  {
   "cell_type": "code",
   "execution_count": 14,
   "id": "27d60c6a-ef8c-496b-8ec1-968f72ab35c9",
   "metadata": {
    "scrolled": true
   },
   "outputs": [
    {
     "name": "stderr",
     "output_type": "stream",
     "text": [
      "/opt/anaconda3/lib/python3.12/site-packages/mbi/__init__.py:15: UserWarning: MixtureInference disabled, please install jax and jaxlib\n",
      "  warnings.warn('MixtureInference disabled, please install jax and jaxlib')\n"
     ]
    },
    {
     "name": "stdout",
     "output_type": "stream",
     "text": [
      "Spent 0.2 epsilon on preprocessor, leaving 0.8 for training\n",
      "Fitting with 72960000 dimensions\n",
      "Getting cliques\n",
      "Estimating marginals\n"
     ]
    }
   ],
   "source": [
    "synth_one = create_synthesizer(1.0, 1e-5)"
   ]
  },
  {
   "cell_type": "code",
   "execution_count": 16,
   "id": "ab9f9a7e-ed08-45ec-92ec-912aef7a2b85",
   "metadata": {},
   "outputs": [
    {
     "data": {
      "text/plain": [
       "'\\nsamples = [10**n for n in range(3, 8)]\\naccuracies = []\\nfor n in samples:\\n    accuracies.append(dp_synth_dtree(synth_one, n))\\n'"
      ]
     },
     "execution_count": 16,
     "metadata": {},
     "output_type": "execute_result"
    }
   ],
   "source": [
    "# TODO: REPLACED BY CELLS BELOW\n",
    "\"\"\"\n",
    "samples = [10**n for n in range(3, 8)]\n",
    "accuracies = []\n",
    "for n in samples:\n",
    "    accuracies.append(dp_synth_dtree(synth_one, n))\n",
    "\"\"\""
   ]
  },
  {
   "cell_type": "code",
   "execution_count": 17,
   "id": "41f9df54-ebfc-42b2-a39e-7375b58742d5",
   "metadata": {},
   "outputs": [
    {
     "data": {
      "text/plain": [
       "'\\nplt.title(\"Model Accuracy vs. Samples\")\\nplt.xscale(\"log\")\\nplt.xlabel(\"Samples\")\\nplt.ylabel(\"Model Accuracy\")\\nplt.ylim(0, 1.0)\\n\\nplt.axhline(dtree(X,y), color=\\'r\\') # plot base accuracy of model\\nplt.plot(samples, , color=\\'g\\') # plot accuracy of dp decision tree\\nplt.plot(samples, accuracies, color=\\'b\\') # plot accuracy of dp synthetic data \\nplt.legend([f\\'Non DP Model (n={len(X)})\\', r\\'$1.0$-DP Model\\', r\\'$1.0, 1e^{-5}$-DP Synthetic Data Model\\']) \\nplt.show()\\n'"
      ]
     },
     "execution_count": 17,
     "metadata": {},
     "output_type": "execute_result"
    }
   ],
   "source": [
    "#TODO: REPLACED BY CELLS BELOW\n",
    "\"\"\"\n",
    "plt.title(\"Model Accuracy vs. Samples\")\n",
    "plt.xscale(\"log\")\n",
    "plt.xlabel(\"Samples\")\n",
    "plt.ylabel(\"Model Accuracy\")\n",
    "plt.ylim(0, 1.0)\n",
    "\n",
    "plt.axhline(dtree(X,y), color='r') # plot base accuracy of model\n",
    "plt.plot(samples, , color='g') # plot accuracy of dp decision tree\n",
    "plt.plot(samples, accuracies, color='b') # plot accuracy of dp synthetic data \n",
    "plt.legend([f'Non DP Model (n={len(X)})', r'$1.0$-DP Model', r'$1.0, 1e^{-5}$-DP Synthetic Data Model']) \n",
    "plt.show()\n",
    "\"\"\""
   ]
  },
  {
   "cell_type": "markdown",
   "id": "67ee635a",
   "metadata": {},
   "source": [
    "## Compare Model Accuracy to Training Dataset Size\n",
    "\n",
    "### Create two synthesizers for each pipeline\n",
    "The synthesizer `big_synth` has `epsilon = 1000` which provides essentially no privacy garuntee by design. This is because this synthetic data is fed into the Differentially Private Decision Tree Classifier which has `epsilon = 1.0`, which is equivalent to the `epsilon` value used in the other pipeline"
   ]
  },
  {
   "cell_type": "code",
   "execution_count": 5,
   "id": "454ff352",
   "metadata": {},
   "outputs": [
    {
     "name": "stdout",
     "output_type": "stream",
     "text": [
      "Spent 0.2 epsilon on preprocessor, leaving 0.8 for training\n",
      "Fitting with 72960000 dimensions\n",
      "Getting cliques\n",
      "Estimating marginals\n"
     ]
    },
    {
     "name": "stderr",
     "output_type": "stream",
     "text": [
      "c:\\Users\\jack\\OneDrive\\Desktop\\cs3110\\cs3110-final-project\\.venv\\Lib\\site-packages\\snsql\\sql\\odometer.py:79: RuntimeWarning: overflow encountered in exp\n",
      "  optimal_left_side = np.sum([((np.exp(eps) - 1) * eps) / ((np.exp(eps) + 1)) for eps, _ in self.steps])\n",
      "c:\\Users\\jack\\OneDrive\\Desktop\\cs3110\\cs3110-final-project\\.venv\\Lib\\site-packages\\snsql\\sql\\odometer.py:79: RuntimeWarning: invalid value encountered in scalar divide\n",
      "  optimal_left_side = np.sum([((np.exp(eps) - 1) * eps) / ((np.exp(eps) + 1)) for eps, _ in self.steps])\n"
     ]
    },
    {
     "name": "stdout",
     "output_type": "stream",
     "text": [
      "Spent 33333.333333333336 epsilon on preprocessor, leaving 66666.66666666666 for training\n",
      "Fitting with 72960000 dimensions\n",
      "Getting cliques\n",
      "Estimating marginals\n"
     ]
    }
   ],
   "source": [
    "# Create Synthesizer\n",
    "synth = Synthesizer.create(\"mst\", epsilon=1.0, delta=1e-5, verbose=True)\n",
    "synth.fit(maternal_health[['Age', 'SystolicBP', 'DiastolicBP', 'BS', 'BodyTemp', 'HeartRate', 'RiskLevel']], preprocessor_eps=1.0/5) # allocate 1/5 of epsilon to the preprocesser\n",
    "\n",
    "# Unbounded Synthesizer\n",
    "# Create Synthesizer with unbounded epsilon and delta = 1e-5\n",
    "massive_epsilon = 100000\n",
    "big_synth = Synthesizer.create(\"mst\", epsilon=massive_epsilon, delta=1e-5, verbose=True)\n",
    "big_synth.fit(maternal_health[['Age', 'SystolicBP', 'DiastolicBP', 'BS', 'BodyTemp', 'HeartRate', 'RiskLevel']], preprocessor_eps=massive_epsilon/3) # allocate 1/3 of epsilon to the preprocesser\n"
   ]
  },
  {
   "cell_type": "markdown",
   "id": "643a2447",
   "metadata": {},
   "source": [
    "### Gather data points, seperated due to long running time"
   ]
  },
  {
   "cell_type": "code",
   "execution_count": 6,
   "id": "7f188f8a",
   "metadata": {},
   "outputs": [
    {
     "name": "stderr",
     "output_type": "stream",
     "text": [
      "c:\\Users\\jack\\OneDrive\\Desktop\\cs3110\\cs3110-final-project\\.venv\\Lib\\site-packages\\snsynth\\mst\\mst.py:240: FutureWarning: Setting an item of incompatible dtype is deprecated and will raise an error in a future version of pandas. Value '[ 1 44 48  5 14 39 15 48  4 38 11 17 29 28 35  9 42 15 44  1 29 30 48 29\n",
      " 49  2 48 11 17 45 27 14  1 32  4 10 46 44 43 38 45 28  9 20  0 28 35 15\n",
      " 46 35 14 38 42 35 22 35  0 44  2 22 38 24 16 30  7 28 40 14  6  2 23 32\n",
      " 29 45 45  7  5 40 42 43 46 17 30 35 45 21 24 38  7 11 24  3 49 47 19 27\n",
      " 34 40 38 41  7 38 16 29 47 47  2  4 17 46 21 17 41 26 43 24  3 34  7  2\n",
      " 44 22 27 30 40  6 49 47  9  4 36  9  0 31  7 34 49 36 13  3 17 19 45 13\n",
      " 45 23 36  6 42 26 38 28 26  2  6 49  3 37  0 22 14 47 39 14  3  7 47 38\n",
      " 42 42 19 23 33 35 20 41 31 28  6 23 38 44 33 11  7 36 26 28 26 37  6 36\n",
      " 31 14 23 41 17 41 45 27 27 23 20  7 41 26 14 21 35 47 28 24 25  7  0 16\n",
      " 19 31 13 21 45 39 15 17  9 29 41 36 47 21 13  3 19 48  2 24 20 11 13 24\n",
      " 21 25 23  2  1 45 38 17  2 34 13 34 44 42  9 32 49 10 19 43 21 23 32 33\n",
      " 26 20 47 24 39 49 11 46 36 19 36  1  2  7 31 48 31  4  9 49 22 21 21 15\n",
      " 13 33  3  4  9 28 45 38 48  5 25 22 37 33 34 36 40  4 17 49 48 25 23  4\n",
      "  3  7 10  1 11 15  7 43  0 33 30 17 28 15 19 19 34 29 19 36 27  5 21 46\n",
      " 39 13 17 43 29 32 24 28 40 46 47 32 10 44 35 41 48 41 43 42 46 17 21 16\n",
      " 28 17  4  3 34  6  9 16  0 35  1  6 14  6 37 13 34 28 37 19 31 37 42  7\n",
      " 45 33 43  6 41 10 37 26 11 19 13  2 34 39 44 49 37 31 33 13 28 20 41 41\n",
      " 17 30 20 16 38 45  1 47 32  3 17 34  5 17 47 10  0 20 34 17 23 20 27 16\n",
      " 13 27 16 40 16 10 38  7 15 25 39 39 45  2 36 20 23 39  2 45  9 35  2 28\n",
      " 28  6 34 40 48 20 20  2  5 32 42  0 31 15 37  4 31  0 13 46 19  5 30  6\n",
      "  4 17 19 49  7 43 48 33 10 32 41  1  4 19 45 15 45  0 26 26 36 32 30 47\n",
      "  2  3 39  4  0 15 29 45 21 39 40  2 41 16 48 33 16 31 14 10 47 30 36  2\n",
      " 32 31 19 24 22  1 38 23 17 43 14 47 13 28  4 19 15 28 13 11 16  1 17 14\n",
      " 14  6 43 19  5 37 45 25 24  3 47  5  5 23 39 20 27 21  9 15 46 34 15 32\n",
      " 47 17 22 36 46  7 30 28 39  0 28 39 17 49 33  5 48 25 33 35 25 20 39 25\n",
      " 36 33 21 44 27 48 34  1 36  5 29 35 37 49 26 17 24 29 48 46 41 41  5  7\n",
      " 39 29 21 30  3  2 38 33  9 48 49 20 14 13 16 24 15 29 24 31 14 10 32  7\n",
      "  3 30 32 13 44  0 26 20 28 13 45 26 34 38  4 11 31 31 20 36 13  4 39 22\n",
      " 26 43 42 11 45 35 44 37  9 13 42 14  0  0 19 14 32 36  6  5 10 38 37 28\n",
      " 27  5 21 42 39 15 24 27 11 39 37 39  7  4 37 35 13 43 23 41 21 26 36 33\n",
      " 47 38 30 27 33  5 36  6 48  6  7 16  7  2 42 32 15 16  9 44 31  5 34 36\n",
      " 22 45 10 24  1 41 28]' has dtype incompatible with int32, please explicitly cast to a compatible dtype first.\n",
      "  df.loc[mask, col] = np.random.choice(extra, mask.sum())\n",
      "c:\\Users\\jack\\OneDrive\\Desktop\\cs3110\\cs3110-final-project\\.venv\\Lib\\site-packages\\snsynth\\mst\\mst.py:240: FutureWarning: Setting an item of incompatible dtype is deprecated and will raise an error in a future version of pandas. Value '[14 14  5  8  0  3  1  8 12  8 14 14  9 12  4  6 18  4  6  4  6  8  8  2\n",
      " 18  0  6 11 11 12 16  0 18  1  6  0 18  0  6  1  4  0 11 14  6  2 11 14\n",
      " 16 18  6  4 12 16  1  2  6 18  1  0  2  1 18  4  9 12 14 11  8  6 18  2\n",
      "  6 16 11 11 12 14  8 12  4  3  9  2  5  3  0  1  4  1 18  4  1 12 12  1\n",
      "  5  1 11 14  6  5 12  0  0  2 14]' has dtype incompatible with int32, please explicitly cast to a compatible dtype first.\n",
      "  df.loc[mask, col] = np.random.choice(extra, mask.sum())\n",
      "c:\\Users\\jack\\OneDrive\\Desktop\\cs3110\\cs3110-final-project\\.venv\\Lib\\site-packages\\snsynth\\mst\\mst.py:240: FutureWarning: Setting an item of incompatible dtype is deprecated and will raise an error in a future version of pandas. Value '[14  9  0  9 15  0 14  3  9 11 12  9  6 14  5  5  0 14  5 14  6  3  5  9\n",
      " 11  6 15 11  9 14 15  0  6  9  3 15  9  3  6  6 14  0  6 12  3 15  3  0\n",
      " 15  6  5 14  3 14  9  0 15 11 15  6  6  3 15 12  9  6  1 14  5  3  6 12\n",
      "  3 12 12  3  1  5  3  3  5  1  9  1 15  6  9 14 14  1  0  6 14 12  3  1\n",
      "  0  5  6 11  5  9  1  9 14  3 14 11 11  0 15  1 15  3  0  5  3  9  6  5\n",
      " 12  1  6 11  1  0  9 11  1 15  0 11 15 12  0 11  9  0  3  9  1  1 11 15\n",
      "  0  6 11 14 15 12 11 14 14 14  0  3  6 14 11 15  0  9 11  5  6 11  0  1\n",
      "  6  5 15  1 14 15  5 14  1 15 12  0  5 15  5 11  1  1  5 11 15 11  3 15\n",
      "  1  9  9 14 11]' has dtype incompatible with int32, please explicitly cast to a compatible dtype first.\n",
      "  df.loc[mask, col] = np.random.choice(extra, mask.sum())\n",
      "c:\\Users\\jack\\OneDrive\\Desktop\\cs3110\\cs3110-final-project\\.venv\\Lib\\site-packages\\snsynth\\mst\\mst.py:240: FutureWarning: Setting an item of incompatible dtype is deprecated and will raise an error in a future version of pandas. Value '[1 2 3 0 3 6 0 6 6 1 5 6 3 3 3 2 2 5 0 3 3 5 1 2 1 5 2 2 1 4 6 0 0 1 2 4 4\n",
      " 5 2 2 2 1 0 0 1 0 4 1 2 3 6 3 2 3 0 4 3 5 2 6 0 0 2 1 0 4 2 6 0 6 5 4 6 2\n",
      " 5 5 0 2 3 6 0 0 6 0 6 3 4 4 2 0 2 2 2 5 0 2 3 4 3 2 6 5 6 5 0 1 1 2 2 0 2\n",
      " 2 6 5 5 4 5 3 1 2 1 3 5 5 0 4 6 1 1 3 6 2 0 2 3 0 3 1 1 6 5 2 2 2 4 0 2 6\n",
      " 6 5 5 3 6 6 0 3 3 0 0]' has dtype incompatible with int32, please explicitly cast to a compatible dtype first.\n",
      "  df.loc[mask, col] = np.random.choice(extra, mask.sum())\n",
      "c:\\Users\\jack\\OneDrive\\Desktop\\cs3110\\cs3110-final-project\\.venv\\Lib\\site-packages\\snsynth\\mst\\mst.py:240: FutureWarning: Setting an item of incompatible dtype is deprecated and will raise an error in a future version of pandas. Value '[7 4 7 2 0 1 0 0 2 9 7 1 2 6 4 2 1 2 1 2 7 2 7 6 1 3 1 3 6 2 4 4 4 0 6 8 7\n",
      " 2 2 7 2 7 7 7]' has dtype incompatible with int32, please explicitly cast to a compatible dtype first.\n",
      "  df.loc[mask, col] = np.random.choice(extra, mask.sum())\n",
      "c:\\Users\\jack\\OneDrive\\Desktop\\cs3110\\cs3110-final-project\\.venv\\Lib\\site-packages\\snsynth\\mst\\mst.py:240: FutureWarning: Setting an item of incompatible dtype is deprecated and will raise an error in a future version of pandas. Value '[13  0 13  5 12 10 15  5 13  5  7 15 15  2 10  2  0  4 15 10  5 13 13 12\n",
      "  7  2  0 13  2  2  7  7 12 15  0  7  5  0  4  4 13  0 13 10  2 12  7  7\n",
      "  2 15 15  5 13  0  0  0  0 15  0  0  4 15  2  2  5 12  7  0 15 10 12  5\n",
      "  2 13  5  7  7  5  7 12 12  4 12  5 10 12  2 15  2  2  7  5 13 15  0 12\n",
      " 12  7 13  5  5  2 15 10  7 10 13  2 12  4  0  7  2 15  4  4 10  5  0  2]' has dtype incompatible with int32, please explicitly cast to a compatible dtype first.\n",
      "  df.loc[mask, col] = np.random.choice(extra, mask.sum())\n",
      "c:\\Users\\jack\\OneDrive\\Desktop\\cs3110\\cs3110-final-project\\.venv\\Lib\\site-packages\\snsynth\\mst\\mst.py:241: FutureWarning: Setting an item of incompatible dtype is deprecated and will raise an error in a future version of pandas. Value '[0 1 2 2 2 0 1 0 0 0 2 0 2 2 0 1 0 2 1 0 2 2 0 0 2 1 1 0 1 1 2 2 2 0 2 2 0\n",
      " 0 2 0 0 2 2 0 0 2 1 0 0 1 0 0 1 1 1 2 1 1 0 1 2 2 0 2 0 0 0 0 0 0 0 0 1 1\n",
      " 2 0 1 1 2 0 1 2 1 0 2 0 1 1 0 0 0 1 1 0 1 2 0 0 2 0 0 2 0 2 0 1 0 1 0 1 1\n",
      " 2 1 0 1 2 2 1 1 0 1 2 2 0 2 0 1 2 0 2 2 1 2 0 0 2 2 1 2 1 0 2 2 0 0 0 0 1\n",
      " 1 1 1 1 0 0 2 1 1 0 2 0 2 1 0 2 1 2 0 2 2 1 2 2 2 0 2 2 0 0 0 0 1 0 1 0 0\n",
      " 1 1 0 0 0 0 1 0 0 2 1 0 1 2 1 2 0 1 1 0 0 2 2 0 1 2 2 2 1 0 1 2 1 1 1 2 2\n",
      " 2 1 1 1 0 2 2 1 2 1 1 0 2 2 2 2 0 1 0 2 0 0 0 0 0 1 0 2 1 1 0 1 0 1 0 2 0\n",
      " 1 0 1 0 1 0 1 1 2 2 0 0 0 2 1 0 0 0 0 0 1 2 0 2 0 0 1 1 1 2 2 1 0 2 0 1 1\n",
      " 1 2 1 1 1 0 0 2 0 0 0 0 0 2 0 2 0 2 2 0 0 1 0 0 0 0 1 0 1 1 1 0 0 1 0 1 1\n",
      " 2 2 0 2 0 1 0 1 1 1 0 1 0 0 0 0 1 0 0 1 1 2 2 1 1 2 2 2 2 0 0 1 0 0 1 0 1\n",
      " 1 0 0 1 1 2 0 2 1 0 0 2 0 2 0 0 1 0 0 0 1 0 2 2 0 1 0 0 1 1 0 0 2 0 0 1 2\n",
      " 2 1 2 0 1 0 0 2 2 1 1 0 1 1 1 2 2 1 2 0 0 1 1 1 1 1 2 2 0 1 0 2 0 0 0 0 2\n",
      " 0 2 0 1 1 1 0 1 0 2 0 0 1 1 2 1 0 1 0 0 2 1 1 0 1 0 0 2 1 2 2 2 0 1 0 0 1\n",
      " 1 1 1 2 0 0 0 2 0 1 0 0 0 1 0 2 2 2 1 2 0 0 1 1 2 0 0 1 2 2 1 0 0 2 0 2 2\n",
      " 0 1 2 0 0 0 0 0 2 1 0 0 2 1 1 2 1 1 0 1 1 1 1 1 2 1 1 0 2 0 1 0 1 1 1 1 2\n",
      " 2 0 0 1 0 0 0 0 2 1 0 0 1 2 0 2 2 2 1 0 2 2 2 1 0 2 1 0 1 0 1 0 0 2 1 0 1\n",
      " 0 1 1 2 0 0 1 1 1 2 0 0 1 2 2 1 2 2 0 0 1 2 2 2 0 1 0 1 1 1 2 2 2 0 0 2 0\n",
      " 0 2 1 1 1 1 1 2 1 0 0 2 0 1 0 0 0 0 1 0 0 0 2 0 2 2 2 0 2 2 2 0 2 2 2 0 0\n",
      " 2 0 2 0 0 2 2 1 0 1 0 0 0 0 1 0 2 0 1 1 2 1 1 0 0 2 0 2 0 0 0 1 1 0 1 1 0\n",
      " 0 1 0 0 2 2 1 1 0 2 1 2 1 1 1 0 1 1 2 0 2 1 2 0 2 2 2 0 2 0 2 1 2 1 1 0 2\n",
      " 2 0 0 1 0 2 2 1 0 2 0 2 1 2 2 1 1 1 1 0 1 1 2 1 0 1 1 1 0 0 2 0 2 1 0 1 1\n",
      " 0 0 0 1 2 1 0 2 1 0 0 1 0 2 2 0 1 1 1 0 2 2 2 1 1 1 2 2 1 1 1 0 0 0 0 1 1\n",
      " 0 0 2 0 0 2 2 1 2 2 1 1 2 2 0 1 1 2 0 0 1 0 2 0 0 0 0 1 0 2 2 2 2 0 0 1 0\n",
      " 2 0 1 1 0 0 0 1 0 0 2 2 0 1 0 0 0 2 0 1 1 0 2 2 0 0 2 1 0 0 1 1 1 0 1 0 0\n",
      " 1 1 1 0 1 0 0 1 0 1 1 2 2 0 2 2 0 1 1 2 0 2 0 1 0 0 1 1 0 2 1 2 0 2 2 1 0\n",
      " 0 1 2 0 1 0 1 1 0 1 0 0 1 1 1 0 0 2 1 2 2 1 1 0 1 2 0 0 0 0 2 1 1 0 0 0 1\n",
      " 1 0 1 0 0 1 2 0 2 0 0 0 0 2 2 0 0 1 0 1 0 0 2 0 2 1 0 1 0 2 0 1 2 0 2 1 0\n",
      " 1]' has dtype incompatible with int32, please explicitly cast to a compatible dtype first.\n",
      "  df.loc[~mask, col] = idx[df.loc[~mask, col]]\n",
      "c:\\Users\\jack\\OneDrive\\Desktop\\cs3110\\cs3110-final-project\\.venv\\Lib\\site-packages\\snsynth\\mst\\mst.py:241: FutureWarning: Setting an item of incompatible dtype is deprecated and will raise an error in a future version of pandas. Value '[38 37 34 12 36 12 16  7  8  4 31 14  5 14  9  6 11 24 18  6 10 20 18 24\n",
      "  8 17 41 10 29 46 22 41  4 10 25  8 20 25 21 38  1 11 12  8 41 12 44 14\n",
      "  4 44  8 11 23 36 41  6  6 44 41 29  1 43  8 21 11  6  1 36  8  6 10 12\n",
      " 12 25  1 12 14 29 28 31 31 13 17 40 18 11  4  9 41 16 19 24  6 44 12 21\n",
      " 21 38 41 23 21 38 18 40 18 21 41 19 17  1  4  6 26  6 19 10 29 36 20 11\n",
      " 44  2 17  4  6  8 21  4 41 18  9  8  5 24 14  1  1 10  8  1 12 17  7 27\n",
      " 10  6  7 20 10  6  4 14 14 12  8 31 44 26  5 24 20 12 41 31 11 12 24 10\n",
      " 21 24 34 10  9 21 41 14  6 38  9  2 26 19 21  5 40 21 12 20  1 21  7 18\n",
      "  8  1 32  9 12 44 38  1 21 11  4 18  4  1  6  4 11  9 41  8 14 36 19 12\n",
      " 47 38 13 14 10  4 24  8 21 41 12  4  8 31 31 29 44 29 29 10 10  4 37  8\n",
      " 24 20 44  4  4 10 36  9 11 18 24 46  8 41  1  0  5 16 17 19 14  2 11 14\n",
      " 11 10 12 11 29 39 46 38  3 12 16 24 11  8 29 19 17  4  8 19  8  1 19 19\n",
      "  6 21  4 24  4  6 10 12 24 36 20  4 38 12 11 20  4  4 12 14  7 20 18 36\n",
      " 43 24  4  1 29  2 11  6  1 14  4 19  8  6 44  4 11 21 34 10 38 20  4 14\n",
      " 21 11 14 38 12  7 38 48  9 15 12  5 14 24 21 18 12 18 14  8  6 38  4 36\n",
      " 11  7  6 38 21 12 15 19  4 24 29  6 12  6 32  8 12 24 31 17  6 11 12 21\n",
      " 11 18 31  6 24  8 12 38 10 41  5 29 11 13 24  4 29 36 12 10 17 17 45 26\n",
      " 44 38 26 19 36 29 38 18 21 41 21 12 38 20 36 36 23 31 12  4 12 29 24 29\n",
      "  8 41 44 29 21 31 31 21  6 19 21 24 38 41  8 40 16 44 38 21 12 12 18 12\n",
      "  4 11  4 23 24  6  9  8  9  1 11 12 47  6 11 29 34  8  1  5  3 29 14 21\n",
      " 10 12 11  8 20 14 41 11 38 41 10 31  8 14  6 31 20  4 24 41 12 44  8 44\n",
      " 44  4 18 10 40 37 11  9  1 12 37 11  4 41 44 28 33  5 10  6 37 12 29 12\n",
      " 14  6 29 12  7 10 36  2 21 21 24 18 11 44  9 11  4  9 22 36 22 24 11 10\n",
      " 19  6  4 24 31  6 41 12 19  6  8 24  8  8 17 40 28 20 18 10 44  6  5 41\n",
      " 18 36 24 14 38 17 36 10 14 10  1  6 20 29  2  6  8  6  9 21 14 37  2  8\n",
      " 11 24  4 37 29 29 37 11 12 40 24  6 28 11 44 17  1 12  8 42 34  8  6  1\n",
      " 32  6 12 24 14  4 14 21  8  6  8 36  7  4  7 24  1  4 11 12 38  7 17 36\n",
      " 19 37  8 14  4  4 38 31 18 44 11 24 34 21  6  6 10 24 18 14 17 11  9  8\n",
      "  6 18 38 14 14 15 48 14 38 36 40 18 11 24 12 44 41  4  6  9 14  8 14 18\n",
      "  4 12  8  4 18 36 24 12  6  7 38 32 21 31 12  1  4 12  6 11  1  7 18 16\n",
      " 24 12 14 17 29 21  0 12 31  8  6 40 41 24 24  6 18 29 29 47 10 11 24 14\n",
      "  8 17  8 19 38  8  1 31 21 24 44 18 18 12  4 44 12  2 17  4 10  7  7 20\n",
      " 14 29  4  4 18 19 44 11  7 21 41  6  5  1 19  7 32 37 21 18 18 19 10 41\n",
      " 11 12 14  6  9 26 19 18 38  8 21 12  2 17 21  1 12  6  8 41 18  6 40 24\n",
      " 38 44 20 29 38 11  8 36 44 21  0 44 41 18  5 18  3 19  2 16  4 24 34 44\n",
      " 38 41  8 40 29  9 38  7 44  6 29 14 10 12 21 45 12 38  5 44 12 38 22 17\n",
      " 23  4 14 29 19  1 17  4 17 20 22 25 36 19  4 19  1 14 33 38 14 19  9 44\n",
      "  5 21 17  9 29  8 24  4  8 11 21 38 38 44 31 18 21 38 20 19 12  9  8 17\n",
      " 12  2 35 38  8  8 40 20 31  8 12 17 10 33  6  8 18 36  4 10 24 21  4 14\n",
      "  1  6 36 41 34 38 17 30 24 24 41  6 20 17  8  8 10  8 14  6 24  4 27 14\n",
      "  6 21  6  6 34 12 14 31  1 16  2 21 29  1  8 18 44 19  8 17  8 10 41 24\n",
      " 18 19  6 14 36 29 24 24  4 12 41 38 12 31  0  6]' has dtype incompatible with int32, please explicitly cast to a compatible dtype first.\n",
      "  df.loc[~mask, col] = idx[df.loc[~mask, col]]\n",
      "c:\\Users\\jack\\OneDrive\\Desktop\\cs3110\\cs3110-final-project\\.venv\\Lib\\site-packages\\snsynth\\mst\\mst.py:241: FutureWarning: Setting an item of incompatible dtype is deprecated and will raise an error in a future version of pandas. Value '[13 13 17 13 13 13 10  6 13 13 13 13 10 17 13  6 10 13 15  8 10  8 15 18\n",
      " 17 13  7 13 17 10  7 13  7 13 17 13 13 13 13 13 13  7  7 13 13 17 13 13\n",
      " 13 13 10 13  7 13 17 13  7  7 10 13  0 13 13 13 13  6  6 13 15  7 15 17\n",
      " 10 17 13  7 17 17  7 13 17 13  6 17 15 10  7 10 10  7 13 10  7 13 13 13\n",
      " 13 17 13 10 17 13 15 10 10 17 17 13  8 10 13  6 13 13 13  7 13 13  7  7\n",
      " 13 10  7 12 10  7 13  2  7 11 13 13  7 13 17  8  7 13 13 13 15 13 13 13\n",
      " 13 13 13 11 10  7 13 15 17 13 13 13 11 13  7 15  7  8 15 15 12 10 11 13\n",
      "  7 13 13  0 17 13 13 10 13 13  7 10 17 13 13 10 17 15  7  7  8 13 15  7\n",
      " 13  7 17 13 13 13 13 13 13 13  4 13  2  9  7  3  7 13 13 13 11 13 13  4\n",
      " 17 17 13 17 13 13 13 13 17 17 13  2 13 17 13 17 13 17 17 13  6  2 13 13\n",
      " 18 16 13  7 13 13 13 10 17  7 13 13 10 13  6  7 10 13 13 13 17 10 17 15\n",
      "  7 13 13 13 17 12 13 17  7 13 13 17  7 13 17 13  7 13 13 13 13  7 13 13\n",
      "  7 10  7  7  2  7 13  7 17 13 13  6 17 13 13 16 13 13 13 17  6 13 15 13\n",
      " 13 17  2  1 11  7 13  7 13 17 13 13 13  6 10 13 10 17 13 10 13  7 10 13\n",
      " 15 13 15 13 13  6 17  6 13  6  7 13 15 13 13  7 13 15 13 13  7 13 10 13\n",
      " 13 13 13 13 13 10  6 13 13 13 13 10 13  6 17 13 13 17 13 13 13  7 13 17\n",
      " 13 15 13  7 11 10  7 13  0 17 15 13  7 13 10  2 17 13  6 10 13  6 13 17\n",
      " 13 13 13 13 13 13 13 15 17  7 13  7 15  7 13 13 13 13 17  7 13 17 10 13\n",
      " 13  6 13 18 13 13 13 13 13 10 13 13 17 13 11 17 10  7 13 13 13 13 15 15\n",
      " 13 12  2  7  7 13 13 13 17  7 12  7 13 13 13 17 13 15  6 10 10 13 17 13\n",
      "  8 13  6 13  6 17 13 13 13 13 10 13 13 13  7 13  7  2 13 17 13 13  7  7\n",
      " 13  3 15  7 17 13  7  7  1  7 13 10 13 13 13 13 10 15  0 17 17 13 17 13\n",
      " 17  7 18 17  7 13 13  7  7 13  6  7 13 13 13  6  1 11 10 13 13 13  7 13\n",
      " 13  7 13 13  6 17  7  7 17  6 13  7 13  7 13 17 10  6 15 13  7  6  7 17\n",
      " 15 13 15 17 13  7 13 13 17 13  6  6 13 17  7 13 13  7 13 13 17 17  7 13\n",
      "  7 13  7 13 17 17 13 10 13 15 13  7 10  7 13  7 16 13 13 14 13 15  7  7\n",
      " 13 13 13 13 13 10 13 17 13  7 13 13 13  3 13 10  8 13  7 15 13 10 11 13\n",
      " 17 10 10 13  2 13 13 17 15 13  7  7 13 17 10  7 13  4 15 10 17  7 13 13\n",
      " 13 10 17 13 17  7  4 17 13 13 18 10 13 17 13  7 13 15 10 13 15 13 17 15\n",
      "  2 13 17 13 10 13 15 13 10 13 17 13 13  7 13  7  2 15 13 10  4  7 15  7\n",
      "  8 13 13 13 10 13  1 13 13 13  1 17 17  7 15 12 15 17 13  6  1  7 13 17\n",
      " 10  7 13 13 17 13  6 13 10  7 13  7 10 13  7 13  7 10 13 17  1 12 15  7\n",
      " 13 17  2 17 13 13  7 10 13  7 13 13 13 13 17 13 13 13 13 13 10 13 13 10\n",
      "  7  7 18  7 13 13 13 15 17 13 13 10 10  6 13 13  7  7 13  7 13  6 18 11\n",
      " 18 13 13 15 13  7 17 13  7 17  6 10 13 10  7 15 10 18 10 13  2  7 17  7\n",
      " 13 17  7  7 13 13 13  7 13 10 13 10  6  7 18  7  7 13  7 13 11 13 11 13\n",
      " 13 10 13 17 15 13  8  2 13  8  7 11 15  7 13 15 12 13 13 13 13 13  6 10\n",
      " 13 10  6 11 13 13 10 13 13  7 15 17 17  9 13  7 17 17 13 13 15 13 13  7\n",
      "  6  7 15 17 10 13 17  7 13 13 13 13  7 13 13 13 10 13  7  0 15 13 13 17\n",
      " 13 13 13 13  6 13  7 13 15 13 13 13 13  6 13 13  7 17 13 13 15 13 11 17\n",
      "  7 13 12  8 17 13 13 13  7  5  7 13 13  6 13 11 13 13 13  6 13 10 10 10\n",
      " 15 13  7 13 13 17 15  6  1 13 17 13 17 17  0 10]' has dtype incompatible with int32, please explicitly cast to a compatible dtype first.\n",
      "  df.loc[~mask, col] = idx[df.loc[~mask, col]]\n",
      "c:\\Users\\jack\\OneDrive\\Desktop\\cs3110\\cs3110-final-project\\.venv\\Lib\\site-packages\\snsynth\\mst\\mst.py:241: FutureWarning: Setting an item of incompatible dtype is deprecated and will raise an error in a future version of pandas. Value '[10 13 14 11 10 11  7  2 10 10 10 13  7 15  8  2 11  2  7  2  1  2  7 15\n",
      " 10 13  4  4 15 13  4 13  2 10 15  8 10 13 13 10  2  4  2 10 13 13 10 13\n",
      " 10 11  4 11  2 10 13  8  2  4 11 14  1 10 10 13 13  2  2 10 10  2 10 11\n",
      "  7 15 14  2 15 15  7 10 10 10  2 15  7 11  1 13  7  7 11  7  2 11 13 10\n",
      " 13 10 13  7 13 10  7  7  7 13 14 10  2 13 10  2 13  8 10  4 14 10  2  2\n",
      " 10  4  2  0  4  4 13  0  4  8  8 10  7 13 15  2  2 10 10  2  7  2 10  2\n",
      " 11  2 10  2  1  3 10  7 15 11  8 10 11 13  4  7  2  2  7 10  2  4  7 10\n",
      "  4 10 10  1 13 13 13 13 10 13  2  4 13 10 13  7 15 15  2  2  2 13  7  7\n",
      " 11  1 13  2 13 13 10  2 13 13  2  7  5  2  3  0  4  8 14 11 12 10 10  2\n",
      " 13 14 10 15 10 10  7  9 13 15 13  0 10 15 10 15 10 15 15 10  2  0 13 10\n",
      " 15  2 10  0 10 10 10 13 13  7  2 13 11 14  2  4  4 13 14 10 13  4 14 15\n",
      "  2 11 13 11 15  2 13 14  4 11 13 15  4  7 15 10  2 10  8 10  8  2 10 10\n",
      "  2 13  0  2  0  2 10  2 15 10  2  2 15 13 11  2 10 10  2 15  2  2  7 10\n",
      " 10 15  0  1  8  4 13  2 13 15 10  8 10  4  4  2  4 15 14  1 10  2  0 13\n",
      " 15 13 10 10 13  2 15  2 13  2  2  8 15 10 13  7 10  7 10  8  2 13  0 10\n",
      " 13 10 10 13 13 11  2 10 10  2 14  2  8  2 10 10 13 15 10 10 10  2 11 15\n",
      " 13  7 13  3  2  7  2 14  1 14  7 14  2 10  7  0 14 10  2  1  2  2 10 13\n",
      " 10 10 13 10 13 13 10  7 15  4 13  2 10  2 10 10  8 10 13  0 10 14  7 13\n",
      " 10  4 10 15 10 10 10 13  2  4 13 10 15 14 11 15  7  4 13 13 13 13  7  7\n",
      " 10  4  0  2  7 10 13 10 13  2  4  2 10 10 11 14 14 10  2  7  4  8 15 13\n",
      "  2 10  2 11  2 13 13 13 10 13  4 10 10 10  2 10  2  0  2 15 13  4  4  4\n",
      "  4  0  7  4 15 13  4  2  1  7 13  4 10 14 10  7 13  7  1 15 13 13 15  7\n",
      " 13  3 15 15  2 11 13  4  4 13  2  7 13 10  8  2  1  8  4 10  8  2  4 10\n",
      " 10  3 10 10  2 10  4  2 15  2 13  2  8  2 13 15  7  2  7 10  4  2  4 14\n",
      "  7 10  7 13 10  2 10 10 15 10  2  6  2 15  4 10  8  4  8 13 15 13  4 10\n",
      "  4 13  0 13 14 15 13  4 10  7 10  4  7  4 11  2  2 13 10 11 14 10  3  2\n",
      " 13  8 13 13 10  0 13 15 10  2  8 10 10  0 10  7  2 10  4  7 10  7  2 10\n",
      " 15 13  7 10  0 10 10 15  7  4  4  2 14 10  4  3 10  2  7  7 13  4  8 10\n",
      " 10  7 15 10 15  2  2 13 10 10 15  7  2 15 11  4 10 10  2  9 15 10 15  7\n",
      "  0 13 10  2  7 10 15 13  4  2 15 10 13  2 10  2  0  7  2 13  2  2  7  7\n",
      "  2  8 10 10 11 13  1 10 10 11  1 15 14  7  7  4  7 13 11  2  1  2 10 13\n",
      "  7  2  8 15 15  8  2 10 13  7 10  7  7 11  2 10  7  4 13 10  1  2  7  2\n",
      " 13 15  5 10  8 10  4 11 10  4 14  8 10 10 15 10 10 13 13  7  7  8 10 11\n",
      "  2  2 15  2 13 13 10  7 15 11 13 11  4  2 13  2  7  3 10  4  7  2 15  8\n",
      " 15 10 13 15 10  4 13 10  4 15  1 11 10  7  1  7  4 15  4 13  0  2 14  4\n",
      " 15 14  2  7 13  2 13  2 10  1 14  7  2  2 15  2  7 10  7 11  2 14  8  2\n",
      "  8  2 10 15 10 14  2  0 13  2  4 13 10  4  9 15  2 13 13 10 13 10  2 11\n",
      "  8  4  2  8 11 10  7 10 10  4 15 13 10  2 13  7 13 15  2 11 10  9 10  2\n",
      "  2  4 15 15 11 10 15  2 10 10 13  2  4 13  2 11  7 10  2  1  7 13 10 15\n",
      " 14  8 10 13  2 14  2 10 15 10 13  2  2  2 10 10  4 11 10  8  7 10  2 15\n",
      "  2 13  2  2 14 13 10 10  2  2  4 13 15  2 10  7 11 10 10  2 10  1 11  7\n",
      "  7 10  4 13 10 13  7  2  0 11 13 10 13 10  1  4]' has dtype incompatible with int32, please explicitly cast to a compatible dtype first.\n",
      "  df.loc[~mask, col] = idx[df.loc[~mask, col]]\n",
      "c:\\Users\\jack\\OneDrive\\Desktop\\cs3110\\cs3110-final-project\\.venv\\Lib\\site-packages\\snsynth\\mst\\mst.py:240: FutureWarning: Setting an item of incompatible dtype is deprecated and will raise an error in a future version of pandas. Value '[]' has dtype incompatible with int32, please explicitly cast to a compatible dtype first.\n",
      "  df.loc[mask, col] = np.random.choice(extra, mask.sum())\n",
      "c:\\Users\\jack\\OneDrive\\Desktop\\cs3110\\cs3110-final-project\\.venv\\Lib\\site-packages\\snsynth\\mst\\mst.py:240: FutureWarning: Setting an item of incompatible dtype is deprecated and will raise an error in a future version of pandas. Value '[]' has dtype incompatible with int32, please explicitly cast to a compatible dtype first.\n",
      "  df.loc[mask, col] = np.random.choice(extra, mask.sum())\n",
      "c:\\Users\\jack\\OneDrive\\Desktop\\cs3110\\cs3110-final-project\\.venv\\Lib\\site-packages\\snsynth\\mst\\mst.py:241: FutureWarning: Setting an item of incompatible dtype is deprecated and will raise an error in a future version of pandas. Value '[ 6 15  3  3 14  8  9 13  1  9  6  3  8 11 14  6 11 11 11 10 13  8 10 10\n",
      "  6 12 14  9  9  9  6  8  6  8 12  3  8  8  6  6 11  1  6  1  9  6  9 11\n",
      "  6  8  6  6  6 14  9  8  4  1  3  9  1  6  6 10 11 13  9 14  6  8  6 10\n",
      "  6 12  1  6  8 11 11  8  6  3 13  4  6 14  6  6 15  5  6  1 13  9  3 10\n",
      " 10  7  6  6 10 15 10  3 10  6  9  8 13  3  6  6 14  8  8  6 11 14  6  8\n",
      "  9 11 13  9  4  1  6  9 15 11 14  6 11  8 11  3  6  9  6  9  6 13  8 13\n",
      "  1 13  8  8  1 11  9 11  3  6  6  6  1 14  6 13  8  1  9  6  9  6 11  8\n",
      "  6  6  3  1  6  6  3  8  8  6  6 11 14  9 10  8  3 14  6  8  2  8  8 10\n",
      "  6  6  6  6  6  7  9  9  6 12  6 11  6  1  6  6  6  6  6  6 11 14  6  8\n",
      "  8  7  3  9  6  9  1  3  6  3  6  9  6  6  6  3  9 11  9  6  9  9  9  3\n",
      "  1  8  1  6  6  1 14 14 14 11  8 15  6  9  1  6 11  9 12  8  8 11 12  6\n",
      "  9  8 10 11  9  3 15  6  6  6  9 11 12  1  1  6  6 11  6  6  3  1  6  8\n",
      "  4  6  6  3  9  8  8  6  3 14  8 11 13  8 11  8  9  9  6 11  8  8 10 14\n",
      "  6  3  9  1 11 11  1  8  1  3  9  6  6  6  9 11 14 14  6  8  8  8 11  1\n",
      "  6 12 11  6  3  6  6  6 14 13  6 11 11 10 14 10  1 10 11  6  6  6  6 15\n",
      "  6  6  4  6  6  1 13  6  9 11 11 13  8 13  6  6  8 13  6 12  8 10  3  6\n",
      " 12 10  6  4  3  6  6  7  1  3  0  9  8  3  3  9 11 14  6  8  6 12  3 14\n",
      "  9  6 14  6 14  6 15 10  8  1  6  6  7  8 14 14 11  6  8  9 10 11 13  9\n",
      "  6  6  1 11  6  6  6  6  8  6 14  6  1 14  6  3  9  1  7  6  8  3 10  8\n",
      " 11  6  6 13  1 13  6  6  6  3  9  3  6 10 14 11  6  6  3  8  6  3 11  6\n",
      " 13  3 12  1  8 11  8  6  6 11  8  6  1 11 13 15  8  9  1  1  6  7 11  9\n",
      "  7  6 10  8  3  9 14  6  1  8  9 14  6  9  9 11 11  0  9  4 15 10 11  8\n",
      " 11 13  9  6  8  1 14 11 10 10  3 10 12  7  6 11  9 14  6 14  6  3 12  9\n",
      "  8 13  6 13  6  8  3 10  8  6 11  8  6  6 13  4 11  8 10  1  1 13 11  3\n",
      " 10 14  1 11  8 13 14 13  3  8  9  4  6  9 11  6  6  6 14 14  3  9 11 11\n",
      "  6  3  8  3 11  6  9 14 10  3  6 13 11  8  9 13  3  1  6  6  3  6 13  1\n",
      "  6  8  8  8  3  9  1  6 11  8  6 14  8  6  8  6 11 11  8  8  1  8 13 14\n",
      "  9  9  6 11  6 11  8 15 10  9 11  3  3  6 13  8  9  3 11 11 12 12 14  6\n",
      "  8 10  6 11 11 13 13 11 15 14  4 10 11  3  3  9  3  9  8  6  3  6  3 10\n",
      "  6  6  6  6 11 14 10  8 13  6  7  8  6  6  1  3  9  1  8 11  2  6 10  5\n",
      "  3  3  3 13  9 14  6  1  6  3  8  3  9  1  3  8 10 15  9 13  8 14  3 11\n",
      "  6  8  6  6  6  3  3  8 14  7  9 11 11 10  9  7  8 11  6 11  8 13  8  8\n",
      "  3 15  9  9 11  8  1 14  8  6  9  8 11  1  8  8  6  9  6  6 11  6  8  8\n",
      "  6  6 11 13  6 14  8 10  6  1 14  1 11  8  8  6  6  8  3 10 11 13  3  8\n",
      " 11  1  8 11  1 11  6 15  7  6  6  9  9 11 11 10  6  8 11 15  9  3  3  9\n",
      "  7 11  3  3 11  6  9  6  3  8  9 11  9  6  6  6  6  8 11  1  8 15  6 13\n",
      " 13  6  1  1  6  2 12  6 13  8  6  8 14  6  6  6  3 11 11  7 13  6  6  7\n",
      " 11  8 13  6 15  6  1  9  1 12  6  6  1  7  6 10  8  6  8  6  6  6  1 12\n",
      "  6 11 15  6  1  6  3  8  6  6  9 13  6 11 13  1 10 14  6 14  1  6  9  6\n",
      " 11  4 14  3  3  6  6  7  6  3  3  4  8  6  1  6  1  6 11 13 11  6  6 11\n",
      "  8  6  6  6  3  6 11  6  2 13 11  6  1  1  6 10  9  8  6 13  6  1 11 13\n",
      " 11  8 13 11 14 11 14  6  9  8  9  6  3  6  6  8]' has dtype incompatible with int32, please explicitly cast to a compatible dtype first.\n",
      "  df.loc[~mask, col] = idx[df.loc[~mask, col]]\n",
      "c:\\Users\\jack\\OneDrive\\Desktop\\cs3110\\cs3110-final-project\\.venv\\Lib\\site-packages\\snsynth\\mst\\mst.py:241: FutureWarning: Setting an item of incompatible dtype is deprecated and will raise an error in a future version of pandas. Value '[1 1 0 0 2 0 0 0 1 0 1 2 1 2 0 1 0 0 2 2 1 1 1 2 1 1 1 0 2 0 1 0 0 0 1 1 0\n",
      " 2 2 1 0 2 1 1 0 1 0 2 0 1 1 1 0 2 0 2 1 1 2 1 2 0 1 1 0 0 0 1 1 2 0 0 0 2\n",
      " 1 0 0 2 2 2 0 0 1 2 1 1 0 0 2 2 2 1 1 2 0 0 0 1 1 2 2 1 1 2 1 2 0 2 0 0 0\n",
      " 1 2 2 1 0 2 2 0 1 1 0 1 0 1 0 1 0 2 1 0 1 0 2 2 0 0 0 1 0 1 2 0 2 0 2 0 0\n",
      " 0 0 0 2 1 0 1 0 0 2 0 2 1 1 1 0 0 2 1 1 0 0 0 0 1 2 2 0 1 1 0 1 2 0 2 0 2\n",
      " 2 0 1 0 2 1 1 1 1 2 0 0 0 2 0 0 0 0 1 0 1 2 1 1 1 0 1 2 2 1 0 0 2 0 1 0 0\n",
      " 2 0 1 0 1 0 0 2 0 2 0 0 2 1 1 0 0 0 0 0 1 0 0 1 2 1 1 1 2 2 0 2 0 0 0 0 1\n",
      " 1 1 2 0 0 1 0 2 0 2 0 2 0 2 0 2 1 0 0 2 1 0 0 1 1 1 1 2 2 2 0 0 2 0 0 0 0\n",
      " 2 2 1 0 1 0 2 1 0 0 0 0 1 1 1 2 0 0 0 2 2 1 0 0 1 2 0 2 1 1 1 0 0 1 0 1 1\n",
      " 0 0 1 2 2 0 2 0 0 2 0 1 1 0 1 2 0 0 1 0 1 1 0 2 2 0 2 0 1 0 2 2 2 1 1 0 2\n",
      " 2 2 0 1 2 1 0 2 0 1 0 0 1 0 0 1 0 2 2 0 2 2 0 1 1 2 0 0 2 0 2 2 2 1 1 1 0\n",
      " 2 1 2 2 1 1 2 0 1 0 2 0 0 1 1 2 1 2 2 0 0 0 2 0 2 0 2 1 2 0 0 0 2 0 0 1 1\n",
      " 2 1 1 2 0 0 2 1 1 0 1 0 0 0 0 2 0 1 1 1 0 2 0 1 0 2 1 2 2 1 1 0 2 2 2 2 0\n",
      " 0 0 2 0 2 2 1 0 2 0 0 0 0 0 0 1 0 2 2 0 0 0 1 1 0 0 1 2 0 1 1 1 1 2 2 0 0\n",
      " 1 1 1 0 0 2 0 1 2 1 2 1 2 1 1 0 2 1 1 0 2 1 2 2 0 0 0 1 2 1 2 1 0 0 1 2 0\n",
      " 0 1 2 2 0 2 2 1 0 2 1 1 1 1 1 2 0 2 1 1 1 1 2 0 2 2 1 2 0 2 0 0 1 1 2 2 1\n",
      " 1 1 1 1 0 0 1 0 0 0 0 1 1 2 0 0 1 1 2 2 2 0 0 1 1 0 1 2 0 0 0 0 1 0 1 2 0\n",
      " 0 1 2 1 1 0 2 1 0 1 1 0 0 0 0 2 1 0 0 2 2 1 2 1 0 2 0 1 1 0 0 0 1 2 2 1 0\n",
      " 1 0 0 1 1 0 1 2 1 1 2 1 0 1 2 1 2 2 0 0 1 0 2 0 2 0 0 1 2 2 0 1 0 0 2 1 0\n",
      " 1 2 1 1 2 2 0 0 1 0 1 0 1 1 0 2 1 2 0 0 2 2 0 1 0 1 1 2 1 2 2 2 1 1 2 2 2\n",
      " 0 1 2 0 0 0 1 1 2 1 2 0 2 0 0 1 1 0 0 2 0 2 1 1 0 1 0 0 0 2 0 0 1 2 2 0 0\n",
      " 2 2 1 1 1 1 1 1 0 2 2 1 0 0 0 0 0 0 0 1 2 2 1 2 0 1 0 1 1 0 2 1 0 0 2 1 0\n",
      " 2 0 1 0 1 2 1 0 1 0 0 0 1 0 2 1 0 1 2 1 0 0 0 0 0 2 0 0 1 2 2 0 1 0 2 1 2\n",
      " 1 0 0 0 0 1 2 0 0 1 0 1 1 0 0 0 2 1 0 1 0 2 1 1 1 2 1 0 1 1 2 1 1 1 0 0 1\n",
      " 0 1 0 0 2 0 0 0 0 0 1 1 2 1 1 1 0 2 1 2 1 1 0 2 0 1 2 1 0 1 2 1 2 0 0 1 1\n",
      " 1 2 1 1 0 0 1 2 2 0 2 1 0 0 2 0 2 0 0 1 0 1 0 1 2 1 1 0 0 0 1 2 1 2 2 1 2\n",
      " 2 0 0 0 1 0 2 1 1 0 2 0 1 0 1 0 0 1 0 0 0 2 1 0 2 2 2 2 0 2 0 1 0 2 0 0 0\n",
      " 0]' has dtype incompatible with int32, please explicitly cast to a compatible dtype first.\n",
      "  df.loc[~mask, col] = idx[df.loc[~mask, col]]\n",
      "c:\\Users\\jack\\OneDrive\\Desktop\\cs3110\\cs3110-final-project\\.venv\\Lib\\site-packages\\snsynth\\mst\\mst.py:240: FutureWarning: Setting an item of incompatible dtype is deprecated and will raise an error in a future version of pandas. Value '[40 35 25 ... 37 11  2]' has dtype incompatible with int32, please explicitly cast to a compatible dtype first.\n",
      "  df.loc[mask, col] = np.random.choice(extra, mask.sum())\n",
      "c:\\Users\\jack\\OneDrive\\Desktop\\cs3110\\cs3110-final-project\\.venv\\Lib\\site-packages\\snsynth\\mst\\mst.py:240: FutureWarning: Setting an item of incompatible dtype is deprecated and will raise an error in a future version of pandas. Value '[14  1  5 ... 11  2 18]' has dtype incompatible with int32, please explicitly cast to a compatible dtype first.\n",
      "  df.loc[mask, col] = np.random.choice(extra, mask.sum())\n",
      "c:\\Users\\jack\\OneDrive\\Desktop\\cs3110\\cs3110-final-project\\.venv\\Lib\\site-packages\\snsynth\\mst\\mst.py:240: FutureWarning: Setting an item of incompatible dtype is deprecated and will raise an error in a future version of pandas. Value '[14  5  0 ...  9  9 15]' has dtype incompatible with int32, please explicitly cast to a compatible dtype first.\n",
      "  df.loc[mask, col] = np.random.choice(extra, mask.sum())\n",
      "c:\\Users\\jack\\OneDrive\\Desktop\\cs3110\\cs3110-final-project\\.venv\\Lib\\site-packages\\snsynth\\mst\\mst.py:240: FutureWarning: Setting an item of incompatible dtype is deprecated and will raise an error in a future version of pandas. Value '[6 0 4 ... 2 2 4]' has dtype incompatible with int32, please explicitly cast to a compatible dtype first.\n",
      "  df.loc[mask, col] = np.random.choice(extra, mask.sum())\n",
      "c:\\Users\\jack\\OneDrive\\Desktop\\cs3110\\cs3110-final-project\\.venv\\Lib\\site-packages\\snsynth\\mst\\mst.py:240: FutureWarning: Setting an item of incompatible dtype is deprecated and will raise an error in a future version of pandas. Value '[0 6 8 0 2 1 0 8 0 0 7 6 7 4 0 8 7 1 6 4 7 3 8 1 7 8 8 3 2 8 6 3 1 4 4 1 1\n",
      " 7 9 1 1 7 6 0 4 0 6 9 1 7 7 9 8 9 4 9 2 9 1 6 4 6 9 9 9 3 3 6 2 7 6 2 0 8\n",
      " 9 1 9 2 8 6 9 1 1 2 4 6 0 3 8 7 7 0 2 3 4 7 1 6 1 8 0 4 6 9 9 0 6 4 6 4 0\n",
      " 3 3 6 7 0 6 9 8 6 8 9 7 8 6 0 1 8 3 3 4 7 4 9 0 6 3 0 2 6 8 2 0 9 2 8 0 8\n",
      " 4 7 3 2 3 4 4 6 4 2 8 8 1 1 9 1 6 0 8 6 0 1 8 0 8 6 9 7 8 7 9 8 0 7 3 9 7\n",
      " 7 0 3 1 4 2 7 6 6 8 9 8 9 1 0 1 8 8 9 4 1 0 9 3 0 1 6 2 6 4 7 0 3 8 7 6 3\n",
      " 4 2 2 4 0 4 6 6 6 6 3 3 2 4 8 0 1 9 0 1 3 1 1 4 2 2 2 3 6 4 9 1 4 9 3 4 1\n",
      " 2 3 8 7 9 2 8 4 7 6 1 6 3 6 2 8 8 8 4 4 6 7 7 7 4 4 6 9 7 6 6 6 0 8 2 9 3\n",
      " 0 2 9 4 8 6 8 1 1 9 0 3 1 4 6 8 4 8 8 9 1 1 1 1 0 6 7 1 4 6 8 4 9 7 7 3 6\n",
      " 8 0 2 6 1 9 6 8 9 1 8 3 8 8 8 7 0 7 0 4 9 4 4 1 0 7 4 9 9 4 2 7 6 0 9 4 6\n",
      " 6 1 0 1 0 9 1 7 3 1 1 3 2 2 2 0 3 7 9 7 0 1 9 3 3 2 7 3 0 1 1 6 8 4 8 8 4\n",
      " 3 3 0 7 4 0 9 2 0 4 6 7 8 8 4 7 0 0 0 3 8 4 4 8 2 7 0 9 7 2 3 3 9 6 9 0]' has dtype incompatible with int32, please explicitly cast to a compatible dtype first.\n",
      "  df.loc[mask, col] = np.random.choice(extra, mask.sum())\n",
      "c:\\Users\\jack\\OneDrive\\Desktop\\cs3110\\cs3110-final-project\\.venv\\Lib\\site-packages\\snsynth\\mst\\mst.py:240: FutureWarning: Setting an item of incompatible dtype is deprecated and will raise an error in a future version of pandas. Value '[ 2 12  7 ... 12 10 12]' has dtype incompatible with int32, please explicitly cast to a compatible dtype first.\n",
      "  df.loc[mask, col] = np.random.choice(extra, mask.sum())\n",
      "c:\\Users\\jack\\OneDrive\\Desktop\\cs3110\\cs3110-final-project\\.venv\\Lib\\site-packages\\snsynth\\mst\\mst.py:241: FutureWarning: Setting an item of incompatible dtype is deprecated and will raise an error in a future version of pandas. Value '[0 0 2 ... 0 2 2]' has dtype incompatible with int32, please explicitly cast to a compatible dtype first.\n",
      "  df.loc[~mask, col] = idx[df.loc[~mask, col]]\n",
      "c:\\Users\\jack\\OneDrive\\Desktop\\cs3110\\cs3110-final-project\\.venv\\Lib\\site-packages\\snsynth\\mst\\mst.py:241: FutureWarning: Setting an item of incompatible dtype is deprecated and will raise an error in a future version of pandas. Value '[ 8 20  8 ... 24  4 19]' has dtype incompatible with int32, please explicitly cast to a compatible dtype first.\n",
      "  df.loc[~mask, col] = idx[df.loc[~mask, col]]\n",
      "c:\\Users\\jack\\OneDrive\\Desktop\\cs3110\\cs3110-final-project\\.venv\\Lib\\site-packages\\snsynth\\mst\\mst.py:241: FutureWarning: Setting an item of incompatible dtype is deprecated and will raise an error in a future version of pandas. Value '[13  7 13 ... 17 13 13]' has dtype incompatible with int32, please explicitly cast to a compatible dtype first.\n",
      "  df.loc[~mask, col] = idx[df.loc[~mask, col]]\n",
      "c:\\Users\\jack\\OneDrive\\Desktop\\cs3110\\cs3110-final-project\\.venv\\Lib\\site-packages\\snsynth\\mst\\mst.py:241: FutureWarning: Setting an item of incompatible dtype is deprecated and will raise an error in a future version of pandas. Value '[10  2  8 ... 15  4 10]' has dtype incompatible with int32, please explicitly cast to a compatible dtype first.\n",
      "  df.loc[~mask, col] = idx[df.loc[~mask, col]]\n",
      "c:\\Users\\jack\\OneDrive\\Desktop\\cs3110\\cs3110-final-project\\.venv\\Lib\\site-packages\\snsynth\\mst\\mst.py:240: FutureWarning: Setting an item of incompatible dtype is deprecated and will raise an error in a future version of pandas. Value '[8]' has dtype incompatible with int32, please explicitly cast to a compatible dtype first.\n",
      "  df.loc[mask, col] = np.random.choice(extra, mask.sum())\n",
      "c:\\Users\\jack\\OneDrive\\Desktop\\cs3110\\cs3110-final-project\\.venv\\Lib\\site-packages\\snsynth\\mst\\mst.py:240: FutureWarning: Setting an item of incompatible dtype is deprecated and will raise an error in a future version of pandas. Value '[]' has dtype incompatible with int32, please explicitly cast to a compatible dtype first.\n",
      "  df.loc[mask, col] = np.random.choice(extra, mask.sum())\n",
      "c:\\Users\\jack\\OneDrive\\Desktop\\cs3110\\cs3110-final-project\\.venv\\Lib\\site-packages\\snsynth\\mst\\mst.py:241: FutureWarning: Setting an item of incompatible dtype is deprecated and will raise an error in a future version of pandas. Value '[1 8 1 ... 6 9 6]' has dtype incompatible with int32, please explicitly cast to a compatible dtype first.\n",
      "  df.loc[~mask, col] = idx[df.loc[~mask, col]]\n",
      "c:\\Users\\jack\\OneDrive\\Desktop\\cs3110\\cs3110-final-project\\.venv\\Lib\\site-packages\\snsynth\\mst\\mst.py:241: FutureWarning: Setting an item of incompatible dtype is deprecated and will raise an error in a future version of pandas. Value '[1 1 0 ... 1 0 2]' has dtype incompatible with int32, please explicitly cast to a compatible dtype first.\n",
      "  df.loc[~mask, col] = idx[df.loc[~mask, col]]\n",
      "c:\\Users\\jack\\OneDrive\\Desktop\\cs3110\\cs3110-final-project\\.venv\\Lib\\site-packages\\snsynth\\mst\\mst.py:240: FutureWarning: Setting an item of incompatible dtype is deprecated and will raise an error in a future version of pandas. Value '[28 38 19 ...  5 40 26]' has dtype incompatible with int32, please explicitly cast to a compatible dtype first.\n",
      "  df.loc[mask, col] = np.random.choice(extra, mask.sum())\n",
      "c:\\Users\\jack\\OneDrive\\Desktop\\cs3110\\cs3110-final-project\\.venv\\Lib\\site-packages\\snsynth\\mst\\mst.py:240: FutureWarning: Setting an item of incompatible dtype is deprecated and will raise an error in a future version of pandas. Value '[14  6 11 ...  9  8 11]' has dtype incompatible with int32, please explicitly cast to a compatible dtype first.\n",
      "  df.loc[mask, col] = np.random.choice(extra, mask.sum())\n",
      "c:\\Users\\jack\\OneDrive\\Desktop\\cs3110\\cs3110-final-project\\.venv\\Lib\\site-packages\\snsynth\\mst\\mst.py:240: FutureWarning: Setting an item of incompatible dtype is deprecated and will raise an error in a future version of pandas. Value '[14 15 14 ...  3 15  5]' has dtype incompatible with int32, please explicitly cast to a compatible dtype first.\n",
      "  df.loc[mask, col] = np.random.choice(extra, mask.sum())\n",
      "c:\\Users\\jack\\OneDrive\\Desktop\\cs3110\\cs3110-final-project\\.venv\\Lib\\site-packages\\snsynth\\mst\\mst.py:240: FutureWarning: Setting an item of incompatible dtype is deprecated and will raise an error in a future version of pandas. Value '[6 2 1 ... 1 5 6]' has dtype incompatible with int32, please explicitly cast to a compatible dtype first.\n",
      "  df.loc[mask, col] = np.random.choice(extra, mask.sum())\n",
      "c:\\Users\\jack\\OneDrive\\Desktop\\cs3110\\cs3110-final-project\\.venv\\Lib\\site-packages\\snsynth\\mst\\mst.py:240: FutureWarning: Setting an item of incompatible dtype is deprecated and will raise an error in a future version of pandas. Value '[8 0 0 ... 4 6 4]' has dtype incompatible with int32, please explicitly cast to a compatible dtype first.\n",
      "  df.loc[mask, col] = np.random.choice(extra, mask.sum())\n",
      "c:\\Users\\jack\\OneDrive\\Desktop\\cs3110\\cs3110-final-project\\.venv\\Lib\\site-packages\\snsynth\\mst\\mst.py:240: FutureWarning: Setting an item of incompatible dtype is deprecated and will raise an error in a future version of pandas. Value '[10  2  5 ...  0 15 10]' has dtype incompatible with int32, please explicitly cast to a compatible dtype first.\n",
      "  df.loc[mask, col] = np.random.choice(extra, mask.sum())\n",
      "c:\\Users\\jack\\OneDrive\\Desktop\\cs3110\\cs3110-final-project\\.venv\\Lib\\site-packages\\snsynth\\mst\\mst.py:241: FutureWarning: Setting an item of incompatible dtype is deprecated and will raise an error in a future version of pandas. Value '[2 0 0 ... 1 0 0]' has dtype incompatible with int32, please explicitly cast to a compatible dtype first.\n",
      "  df.loc[~mask, col] = idx[df.loc[~mask, col]]\n",
      "c:\\Users\\jack\\OneDrive\\Desktop\\cs3110\\cs3110-final-project\\.venv\\Lib\\site-packages\\snsynth\\mst\\mst.py:241: FutureWarning: Setting an item of incompatible dtype is deprecated and will raise an error in a future version of pandas. Value '[14  9 14 ...  7 12 18]' has dtype incompatible with int32, please explicitly cast to a compatible dtype first.\n",
      "  df.loc[~mask, col] = idx[df.loc[~mask, col]]\n",
      "c:\\Users\\jack\\OneDrive\\Desktop\\cs3110\\cs3110-final-project\\.venv\\Lib\\site-packages\\snsynth\\mst\\mst.py:241: FutureWarning: Setting an item of incompatible dtype is deprecated and will raise an error in a future version of pandas. Value '[17 13 13 ... 13 10 10]' has dtype incompatible with int32, please explicitly cast to a compatible dtype first.\n",
      "  df.loc[~mask, col] = idx[df.loc[~mask, col]]\n",
      "c:\\Users\\jack\\OneDrive\\Desktop\\cs3110\\cs3110-final-project\\.venv\\Lib\\site-packages\\snsynth\\mst\\mst.py:241: FutureWarning: Setting an item of incompatible dtype is deprecated and will raise an error in a future version of pandas. Value '[15  9 10 ... 10  7  7]' has dtype incompatible with int32, please explicitly cast to a compatible dtype first.\n",
      "  df.loc[~mask, col] = idx[df.loc[~mask, col]]\n",
      "c:\\Users\\jack\\OneDrive\\Desktop\\cs3110\\cs3110-final-project\\.venv\\Lib\\site-packages\\snsynth\\mst\\mst.py:240: FutureWarning: Setting an item of incompatible dtype is deprecated and will raise an error in a future version of pandas. Value '[9 8 8 7 8 6 6]' has dtype incompatible with int32, please explicitly cast to a compatible dtype first.\n",
      "  df.loc[mask, col] = np.random.choice(extra, mask.sum())\n",
      "c:\\Users\\jack\\OneDrive\\Desktop\\cs3110\\cs3110-final-project\\.venv\\Lib\\site-packages\\snsynth\\mst\\mst.py:240: FutureWarning: Setting an item of incompatible dtype is deprecated and will raise an error in a future version of pandas. Value '[8 4 3 1 8]' has dtype incompatible with int32, please explicitly cast to a compatible dtype first.\n",
      "  df.loc[mask, col] = np.random.choice(extra, mask.sum())\n",
      "c:\\Users\\jack\\OneDrive\\Desktop\\cs3110\\cs3110-final-project\\.venv\\Lib\\site-packages\\snsynth\\mst\\mst.py:241: FutureWarning: Setting an item of incompatible dtype is deprecated and will raise an error in a future version of pandas. Value '[1 6 3 ... 6 3 6]' has dtype incompatible with int32, please explicitly cast to a compatible dtype first.\n",
      "  df.loc[~mask, col] = idx[df.loc[~mask, col]]\n",
      "c:\\Users\\jack\\OneDrive\\Desktop\\cs3110\\cs3110-final-project\\.venv\\Lib\\site-packages\\snsynth\\mst\\mst.py:241: FutureWarning: Setting an item of incompatible dtype is deprecated and will raise an error in a future version of pandas. Value '[2 1 2 ... 1 1 0]' has dtype incompatible with int32, please explicitly cast to a compatible dtype first.\n",
      "  df.loc[~mask, col] = idx[df.loc[~mask, col]]\n",
      "c:\\Users\\jack\\OneDrive\\Desktop\\cs3110\\cs3110-final-project\\.venv\\Lib\\site-packages\\snsynth\\mst\\mst.py:240: FutureWarning: Setting an item of incompatible dtype is deprecated and will raise an error in a future version of pandas. Value '[ 6 33  1 ... 48 10 22]' has dtype incompatible with int32, please explicitly cast to a compatible dtype first.\n",
      "  df.loc[mask, col] = np.random.choice(extra, mask.sum())\n",
      "c:\\Users\\jack\\OneDrive\\Desktop\\cs3110\\cs3110-final-project\\.venv\\Lib\\site-packages\\snsynth\\mst\\mst.py:240: FutureWarning: Setting an item of incompatible dtype is deprecated and will raise an error in a future version of pandas. Value '[ 5 11  1 ...  8  8  1]' has dtype incompatible with int32, please explicitly cast to a compatible dtype first.\n",
      "  df.loc[mask, col] = np.random.choice(extra, mask.sum())\n",
      "c:\\Users\\jack\\OneDrive\\Desktop\\cs3110\\cs3110-final-project\\.venv\\Lib\\site-packages\\snsynth\\mst\\mst.py:240: FutureWarning: Setting an item of incompatible dtype is deprecated and will raise an error in a future version of pandas. Value '[11 12 14 ... 12  6  9]' has dtype incompatible with int32, please explicitly cast to a compatible dtype first.\n",
      "  df.loc[mask, col] = np.random.choice(extra, mask.sum())\n",
      "c:\\Users\\jack\\OneDrive\\Desktop\\cs3110\\cs3110-final-project\\.venv\\Lib\\site-packages\\snsynth\\mst\\mst.py:240: FutureWarning: Setting an item of incompatible dtype is deprecated and will raise an error in a future version of pandas. Value '[0 6 5 ... 2 1 0]' has dtype incompatible with int32, please explicitly cast to a compatible dtype first.\n",
      "  df.loc[mask, col] = np.random.choice(extra, mask.sum())\n",
      "c:\\Users\\jack\\OneDrive\\Desktop\\cs3110\\cs3110-final-project\\.venv\\Lib\\site-packages\\snsynth\\mst\\mst.py:240: FutureWarning: Setting an item of incompatible dtype is deprecated and will raise an error in a future version of pandas. Value '[6 2 2 ... 3 9 1]' has dtype incompatible with int32, please explicitly cast to a compatible dtype first.\n",
      "  df.loc[mask, col] = np.random.choice(extra, mask.sum())\n",
      "c:\\Users\\jack\\OneDrive\\Desktop\\cs3110\\cs3110-final-project\\.venv\\Lib\\site-packages\\snsynth\\mst\\mst.py:240: FutureWarning: Setting an item of incompatible dtype is deprecated and will raise an error in a future version of pandas. Value '[15  4  2 ...  5 12  0]' has dtype incompatible with int32, please explicitly cast to a compatible dtype first.\n",
      "  df.loc[mask, col] = np.random.choice(extra, mask.sum())\n",
      "c:\\Users\\jack\\OneDrive\\Desktop\\cs3110\\cs3110-final-project\\.venv\\Lib\\site-packages\\snsynth\\mst\\mst.py:241: FutureWarning: Setting an item of incompatible dtype is deprecated and will raise an error in a future version of pandas. Value '[1 0 2 ... 2 2 1]' has dtype incompatible with int32, please explicitly cast to a compatible dtype first.\n",
      "  df.loc[~mask, col] = idx[df.loc[~mask, col]]\n",
      "c:\\Users\\jack\\OneDrive\\Desktop\\cs3110\\cs3110-final-project\\.venv\\Lib\\site-packages\\snsynth\\mst\\mst.py:241: FutureWarning: Setting an item of incompatible dtype is deprecated and will raise an error in a future version of pandas. Value '[31 24 22 ...  6  8 26]' has dtype incompatible with int32, please explicitly cast to a compatible dtype first.\n",
      "  df.loc[~mask, col] = idx[df.loc[~mask, col]]\n",
      "c:\\Users\\jack\\OneDrive\\Desktop\\cs3110\\cs3110-final-project\\.venv\\Lib\\site-packages\\snsynth\\mst\\mst.py:241: FutureWarning: Setting an item of incompatible dtype is deprecated and will raise an error in a future version of pandas. Value '[13  6  7 ...  7 17 13]' has dtype incompatible with int32, please explicitly cast to a compatible dtype first.\n",
      "  df.loc[~mask, col] = idx[df.loc[~mask, col]]\n",
      "c:\\Users\\jack\\OneDrive\\Desktop\\cs3110\\cs3110-final-project\\.venv\\Lib\\site-packages\\snsynth\\mst\\mst.py:241: FutureWarning: Setting an item of incompatible dtype is deprecated and will raise an error in a future version of pandas. Value '[10  2  4 ...  3 10 13]' has dtype incompatible with int32, please explicitly cast to a compatible dtype first.\n",
      "  df.loc[~mask, col] = idx[df.loc[~mask, col]]\n",
      "c:\\Users\\jack\\OneDrive\\Desktop\\cs3110\\cs3110-final-project\\.venv\\Lib\\site-packages\\snsynth\\mst\\mst.py:240: FutureWarning: Setting an item of incompatible dtype is deprecated and will raise an error in a future version of pandas. Value '[6 7 7 8 6 8 9 7 6 6 9 9 9 6 9 9 7 6 9 6 6 9 9 7 8 9 8 7 6 9 9 7 7 8 7 8 8\n",
      " 8 7 6 9 9 8 7 7 9 7 9 8 7 8 7 7 6 9 6 7 9 9 6 8 9 7 6 6 6 6 7 8]' has dtype incompatible with int32, please explicitly cast to a compatible dtype first.\n",
      "  df.loc[mask, col] = np.random.choice(extra, mask.sum())\n",
      "c:\\Users\\jack\\OneDrive\\Desktop\\cs3110\\cs3110-final-project\\.venv\\Lib\\site-packages\\snsynth\\mst\\mst.py:240: FutureWarning: Setting an item of incompatible dtype is deprecated and will raise an error in a future version of pandas. Value '[8 0 1 2 9 8 2 8 3 9 4 2 8 8 2 8 3 8 4 4 1 2 9 3 9 1 3 1 4 1 3 0 4 1 9 1 0\n",
      " 1 9 4 3 7 3 1 7 0 3 0 7 9 1 8 2 1 1 8 4 0 2 0 3]' has dtype incompatible with int32, please explicitly cast to a compatible dtype first.\n",
      "  df.loc[mask, col] = np.random.choice(extra, mask.sum())\n",
      "c:\\Users\\jack\\OneDrive\\Desktop\\cs3110\\cs3110-final-project\\.venv\\Lib\\site-packages\\snsynth\\mst\\mst.py:241: FutureWarning: Setting an item of incompatible dtype is deprecated and will raise an error in a future version of pandas. Value '[ 6  3  6 ...  6  3 14]' has dtype incompatible with int32, please explicitly cast to a compatible dtype first.\n",
      "  df.loc[~mask, col] = idx[df.loc[~mask, col]]\n",
      "c:\\Users\\jack\\OneDrive\\Desktop\\cs3110\\cs3110-final-project\\.venv\\Lib\\site-packages\\snsynth\\mst\\mst.py:241: FutureWarning: Setting an item of incompatible dtype is deprecated and will raise an error in a future version of pandas. Value '[0 0 1 ... 2 1 2]' has dtype incompatible with int32, please explicitly cast to a compatible dtype first.\n",
      "  df.loc[~mask, col] = idx[df.loc[~mask, col]]\n"
     ]
    }
   ],
   "source": [
    "def noisy_synth_model(sample_amt, synthesizer):\n",
    "    \n",
    "    # Sample it and run it on regular decision tree\n",
    "    syn_data = synthesizer.sample(sample_amt)\n",
    "    X_synth = syn_data[['Age', 'SystolicBP', 'DiastolicBP', 'BS', 'BodyTemp', 'HeartRate']]\n",
    "    y_synth = syn_data['RiskLevel']\n",
    "\n",
    "    clf = DecisionTreeClassifier()\n",
    "    \n",
    "    # Evaluate the model \n",
    "    accuracy = cross_val_score(clf, X_synth, y_synth, cv=10).mean()\n",
    "    return accuracy\n",
    "\n",
    "def noisy_tree_model(epsilon, sample_amt, synthesizer):\n",
    "    \n",
    "    # Sample it and run it on DP decision tree\n",
    "    syn_data = synthesizer.sample(sample_amt)\n",
    "    X_synth = syn_data[['Age', 'SystolicBP', 'DiastolicBP', 'BS', 'BodyTemp', 'HeartRate']]\n",
    "    y_synth = syn_data['RiskLevel']\n",
    "\n",
    "    classes = (0, 1, 2) # 0=low risk, 1=mid risk, 2=high risk\n",
    "    \n",
    "    # Bounds computer with publicly available domain knowlegde\n",
    "    # Age, Systolic BP, Diastolic BP, BS, Body Temp, Heart Rate\n",
    "    bounds = ([1, 50, 50, 60, 95, 60],[125, 170, 170, 130, 103, 100])\n",
    "    \n",
    "    dp_clf = dp.DecisionTreeClassifier(epsilon=epsilon, bounds=bounds, classes=classes)\n",
    "    # Evaluate the model \n",
    "    accuracy = cross_val_score(dp_clf, X_synth, y_synth, cv=10).mean()\n",
    "    return accuracy\n",
    "\n",
    "# Get accuracies for epsilon 1.0 and delta 1e-5\n",
    "sample_range = [10**n for n in range(3, 7)]\n",
    "noisy_synth_accuracies = []\n",
    "noisy_tree_accuracies = []\n",
    "\n",
    "for n in sample_range:\n",
    "    noisy_synth_accuracies.append(noisy_synth_model(n, synth))\n",
    "    noisy_tree_accuracies.append(noisy_tree_model(1.0, n, big_synth))"
   ]
  },
  {
   "cell_type": "markdown",
   "id": "8753f6b6",
   "metadata": {},
   "source": [
    "### Plot the accuracy for each pipeline as the data size increases"
   ]
  },
  {
   "cell_type": "code",
   "execution_count": 7,
   "id": "110284c8",
   "metadata": {},
   "outputs": [
    {
     "data": {
      "image/png": "[encoded data removed]",
      "text/plain": [
       "<Figure size 640x480 with 1 Axes>"
      ]
     },
     "metadata": {},
     "output_type": "display_data"
    }
   ],
   "source": [
    "# Plot\n",
    "plt.title(\"Model Accuracy vs. Data Size\")\n",
    "plt.xscale(\"log\")\n",
    "plt.xlabel(\"Data Size\")\n",
    "plt.ylabel(\"Model Accuracy\")\n",
    "plt.ylim(0, 1.0)\n",
    "\n",
    "plt.plot(sample_range, noisy_synth_accuracies, color='r') # plot accuracy of dp synth\n",
    "plt.plot(sample_range, noisy_tree_accuracies, color='b') # plot accuracy of dp tree\n",
    "plt.axhline(dp_dtree(1.0), color='g') # plot base accuracy of model\n",
    "plt.legend([r'($1.0, 1e^{-5}$)-DP Noisy Synthesizer', r'$1.0$-DP Noisy Classifier', r'$1.0$-DP Noisy Classifier on Original Data']) \n",
    "plt.show()"
   ]
  },
  {
   "cell_type": "markdown",
   "id": "99c55ee8-6946-417a-9c48-f4aa2d93b28c",
   "metadata": {},
   "source": [
    "## Effect of epsilon on DP Model vs DP Synthetic Data Model"
   ]
  },
  {
   "cell_type": "code",
   "execution_count": 27,
   "id": "b121865c-3e35-49f1-bb22-9997c45a121c",
   "metadata": {},
   "outputs": [
    {
     "name": "stdout",
     "output_type": "stream",
     "text": [
      "Spent 0.04 epsilon on preprocessor, leaving 0.16 for training\n",
      "Fitting with 72960000 dimensions\n",
      "Getting cliques\n",
      "Estimating marginals\n",
      "Spent 0.1 epsilon on preprocessor, leaving 0.4 for training\n",
      "Fitting with 72960000 dimensions\n",
      "Getting cliques\n",
      "Estimating marginals\n",
      "Spent 0.2 epsilon on preprocessor, leaving 0.8 for training\n",
      "Fitting with 72960000 dimensions\n",
      "Getting cliques\n",
      "Estimating marginals\n",
      "Spent 1.0 epsilon on preprocessor, leaving 4.0 for training\n",
      "Fitting with 72960000 dimensions\n",
      "Getting cliques\n",
      "Estimating marginals\n",
      "Spent 2.0 epsilon on preprocessor, leaving 8.0 for training\n",
      "Fitting with 72960000 dimensions\n",
      "Getting cliques\n",
      "Estimating marginals\n",
      "Spent 5.0 epsilon on preprocessor, leaving 20.0 for training\n",
      "Fitting with 72960000 dimensions\n",
      "Getting cliques\n",
      "Estimating marginals\n"
     ]
    }
   ],
   "source": [
    "epsilons = [0.2, 0.5, 1.0, 5.0, 10.0, 25.0]\n",
    "dp_dtree_acc = []\n",
    "synth_acc = []\n",
    "for epsilon in epsilons:\n",
    "    dp_dtree_acc.append(dp_dtree(epsilon))\n",
    "    \n",
    "    synth = create_synthesizer(epsilon, 1e-5)\n",
    "    synth_acc.append(dp_synth_dtree(synth, 1000))"
   ]
  },
  {
   "cell_type": "code",
   "execution_count": 29,
   "id": "648cf484-bf48-4284-9961-300f22e26eb6",
   "metadata": {},
   "outputs": [
    {
     "data": {
      "image/png": "[encoded data removed]",
      "text/plain": [
       "<Figure size 640x480 with 1 Axes>"
      ]
     },
     "metadata": {},
     "output_type": "display_data"
    }
   ],
   "source": [
    "plt.title(\"Model Accuracy vs. Epsilon\")\n",
    "plt.xlabel(\"Epsilon\")\n",
    "plt.ylabel(\"Model Accuracy\")\n",
    "plt.ylim(0, 1.0)\n",
    "plt.xscale(\"log\")\n",
    "plt.xticks(epsilons)\n",
    "\n",
    "plt.axhline(dtree(X,y), color='r') # plot base accuracy of model\n",
    "plt.plot(epsilons, dp_dtree_acc, color='g') # plot accuracy of dp decision tree\n",
    "plt.plot(epsilons, synth_acc, color='b') # plot accuracy of dp synthetic data \n",
    "plt.legend([f'Non DP Model', r'DP Model', r'DP Synthetic Data Model']) \n",
    "plt.show()"
   ]
  },
  {
   "cell_type": "code",
   "execution_count": null,
   "id": "c4f23254-081f-4713-8fa1-737c992da088",
   "metadata": {},
   "outputs": [],
   "source": []
  }
 ],
 "metadata": {
  "kernelspec": {
   "display_name": "Python 3 (ipykernel)",
   "language": "python",
   "name": "python3"
  },
  "language_info": {
   "codemirror_mode": {
    "name": "ipython",
    "version": 3
   },
   "file_extension": ".py",
   "mimetype": "text/x-python",
   "name": "python",
   "nbconvert_exporter": "python",
   "pygments_lexer": "ipython3",
   "version": "3.12.4"
  }
 },
 "nbformat": 4,
 "nbformat_minor": 5
}
