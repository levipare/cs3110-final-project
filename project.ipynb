{
 "cells": [
  {
   "cell_type": "markdown",
   "id": "c7e9c32e-edb7-43f4-9c39-607b27249d9d",
   "metadata": {},
   "source": [
    "## Using SmartNoise Synthesizers to generate synthetic data"
   ]
  },
  {
   "cell_type": "code",
   "execution_count": 2,
   "id": "f1ccd2de-e8e9-4b58-b1dc-2d279c300e11",
   "metadata": {
    "scrolled": true
   },
   "outputs": [
    {
     "name": "stderr",
     "output_type": "stream",
     "text": [
      "/home/levi/School/cs3110-final-project/.venv/lib/python3.12/site-packages/mbi/__init__.py:15: UserWarning: MixtureInference disabled, please install jax and jaxlib\n",
      "  warnings.warn('MixtureInference disabled, please install jax and jaxlib')\n"
     ]
    },
    {
     "name": "stdout",
     "output_type": "stream",
     "text": [
      "Spent 0.2 epsilon on preprocessor, leaving 0.8 for training\n",
      "Fitting with 1751040000 dimensions\n",
      "Getting cliques\n",
      "Estimating marginals\n"
     ]
    },
    {
     "data": {
      "text/html": [
       "<div>\n",
       "<style scoped>\n",
       "    .dataframe tbody tr th:only-of-type {\n",
       "        vertical-align: middle;\n",
       "    }\n",
       "\n",
       "    .dataframe tbody tr th {\n",
       "        vertical-align: top;\n",
       "    }\n",
       "\n",
       "    .dataframe thead th {\n",
       "        text-align: right;\n",
       "    }\n",
       "</style>\n",
       "<table border=\"1\" class=\"dataframe\">\n",
       "  <thead>\n",
       "    <tr style=\"text-align: right;\">\n",
       "      <th></th>\n",
       "      <th>Age</th>\n",
       "      <th>SystolicBP</th>\n",
       "      <th>DiastolicBP</th>\n",
       "      <th>BS</th>\n",
       "      <th>BodyTemp</th>\n",
       "      <th>HeartRate</th>\n",
       "      <th>LowRisk</th>\n",
       "      <th>MidRisk</th>\n",
       "      <th>HighRisk</th>\n",
       "      <th>RiskLevelStr</th>\n",
       "      <th>RiskLevel</th>\n",
       "    </tr>\n",
       "  </thead>\n",
       "  <tbody>\n",
       "    <tr>\n",
       "      <th>0</th>\n",
       "      <td>32</td>\n",
       "      <td>90</td>\n",
       "      <td>50</td>\n",
       "      <td>7.4</td>\n",
       "      <td>99.2</td>\n",
       "      <td>77</td>\n",
       "      <td>0</td>\n",
       "      <td>0</td>\n",
       "      <td>0</td>\n",
       "      <td>high risk</td>\n",
       "      <td>2</td>\n",
       "    </tr>\n",
       "    <tr>\n",
       "      <th>1</th>\n",
       "      <td>38</td>\n",
       "      <td>85</td>\n",
       "      <td>100</td>\n",
       "      <td>7.0</td>\n",
       "      <td>99.2</td>\n",
       "      <td>80</td>\n",
       "      <td>1</td>\n",
       "      <td>0</td>\n",
       "      <td>0</td>\n",
       "      <td>low risk</td>\n",
       "      <td>0</td>\n",
       "    </tr>\n",
       "    <tr>\n",
       "      <th>2</th>\n",
       "      <td>66</td>\n",
       "      <td>99</td>\n",
       "      <td>80</td>\n",
       "      <td>5.4</td>\n",
       "      <td>99.2</td>\n",
       "      <td>70</td>\n",
       "      <td>0</td>\n",
       "      <td>1</td>\n",
       "      <td>0</td>\n",
       "      <td>mid risk</td>\n",
       "      <td>1</td>\n",
       "    </tr>\n",
       "    <tr>\n",
       "      <th>3</th>\n",
       "      <td>35</td>\n",
       "      <td>120</td>\n",
       "      <td>90</td>\n",
       "      <td>7.0</td>\n",
       "      <td>124.8</td>\n",
       "      <td>66</td>\n",
       "      <td>1</td>\n",
       "      <td>0</td>\n",
       "      <td>0</td>\n",
       "      <td>low risk</td>\n",
       "      <td>0</td>\n",
       "    </tr>\n",
       "    <tr>\n",
       "      <th>4</th>\n",
       "      <td>66</td>\n",
       "      <td>130</td>\n",
       "      <td>49</td>\n",
       "      <td>7.8</td>\n",
       "      <td>99.2</td>\n",
       "      <td>66</td>\n",
       "      <td>0</td>\n",
       "      <td>1</td>\n",
       "      <td>0</td>\n",
       "      <td>mid risk</td>\n",
       "      <td>1</td>\n",
       "    </tr>\n",
       "    <tr>\n",
       "      <th>...</th>\n",
       "      <td>...</td>\n",
       "      <td>...</td>\n",
       "      <td>...</td>\n",
       "      <td>...</td>\n",
       "      <td>...</td>\n",
       "      <td>...</td>\n",
       "      <td>...</td>\n",
       "      <td>...</td>\n",
       "      <td>...</td>\n",
       "      <td>...</td>\n",
       "      <td>...</td>\n",
       "    </tr>\n",
       "    <tr>\n",
       "      <th>995</th>\n",
       "      <td>24</td>\n",
       "      <td>70</td>\n",
       "      <td>100</td>\n",
       "      <td>7.4</td>\n",
       "      <td>99.2</td>\n",
       "      <td>65</td>\n",
       "      <td>0</td>\n",
       "      <td>1</td>\n",
       "      <td>0</td>\n",
       "      <td>mid risk</td>\n",
       "      <td>1</td>\n",
       "    </tr>\n",
       "    <tr>\n",
       "      <th>996</th>\n",
       "      <td>23</td>\n",
       "      <td>120</td>\n",
       "      <td>90</td>\n",
       "      <td>7.0</td>\n",
       "      <td>99.2</td>\n",
       "      <td>77</td>\n",
       "      <td>0</td>\n",
       "      <td>1</td>\n",
       "      <td>0</td>\n",
       "      <td>mid risk</td>\n",
       "      <td>1</td>\n",
       "    </tr>\n",
       "    <tr>\n",
       "      <th>997</th>\n",
       "      <td>62</td>\n",
       "      <td>75</td>\n",
       "      <td>60</td>\n",
       "      <td>7.0</td>\n",
       "      <td>99.2</td>\n",
       "      <td>88</td>\n",
       "      <td>1</td>\n",
       "      <td>0</td>\n",
       "      <td>0</td>\n",
       "      <td>low risk</td>\n",
       "      <td>0</td>\n",
       "    </tr>\n",
       "    <tr>\n",
       "      <th>998</th>\n",
       "      <td>43</td>\n",
       "      <td>120</td>\n",
       "      <td>70</td>\n",
       "      <td>4.2</td>\n",
       "      <td>99.2</td>\n",
       "      <td>88</td>\n",
       "      <td>0</td>\n",
       "      <td>0</td>\n",
       "      <td>1</td>\n",
       "      <td>high risk</td>\n",
       "      <td>2</td>\n",
       "    </tr>\n",
       "    <tr>\n",
       "      <th>999</th>\n",
       "      <td>32</td>\n",
       "      <td>140</td>\n",
       "      <td>85</td>\n",
       "      <td>7.0</td>\n",
       "      <td>99.2</td>\n",
       "      <td>77</td>\n",
       "      <td>1</td>\n",
       "      <td>0</td>\n",
       "      <td>0</td>\n",
       "      <td>low risk</td>\n",
       "      <td>0</td>\n",
       "    </tr>\n",
       "  </tbody>\n",
       "</table>\n",
       "<p>1000 rows × 11 columns</p>\n",
       "</div>"
      ],
      "text/plain": [
       "     Age  SystolicBP  DiastolicBP   BS  BodyTemp  HeartRate  LowRisk  MidRisk  \\\n",
       "0     32          90           50  7.4      99.2         77        0        0   \n",
       "1     38          85          100  7.0      99.2         80        1        0   \n",
       "2     66          99           80  5.4      99.2         70        0        1   \n",
       "3     35         120           90  7.0     124.8         66        1        0   \n",
       "4     66         130           49  7.8      99.2         66        0        1   \n",
       "..   ...         ...          ...  ...       ...        ...      ...      ...   \n",
       "995   24          70          100  7.4      99.2         65        0        1   \n",
       "996   23         120           90  7.0      99.2         77        0        1   \n",
       "997   62          75           60  7.0      99.2         88        1        0   \n",
       "998   43         120           70  4.2      99.2         88        0        0   \n",
       "999   32         140           85  7.0      99.2         77        1        0   \n",
       "\n",
       "     HighRisk RiskLevelStr  RiskLevel  \n",
       "0           0    high risk          2  \n",
       "1           0     low risk          0  \n",
       "2           0     mid risk          1  \n",
       "3           0     low risk          0  \n",
       "4           0     mid risk          1  \n",
       "..        ...          ...        ...  \n",
       "995         0     mid risk          1  \n",
       "996         0     mid risk          1  \n",
       "997         0     low risk          0  \n",
       "998         1    high risk          2  \n",
       "999         0     low risk          0  \n",
       "\n",
       "[1000 rows x 11 columns]"
      ]
     },
     "execution_count": 2,
     "metadata": {},
     "output_type": "execute_result"
    }
   ],
   "source": [
    "from snsynth import Synthesizer # TODO: Exception: Expected exactly one binary to be present. Got: []\n",
    "import pandas as pd\n",
    "\n",
    "data = pd.read_csv(\"maternalHealthDataSet.csv\")\n",
    "\n",
    "# MST synthesizer is used here since it took 1st place in NIST's DP syntehtic data contest\n",
    "synth = Synthesizer.create(\"mst\", epsilon=1.0, delta=1e-5, verbose=True)\n",
    "synth.fit(data, preprocessor_eps=0.2)\n",
    "data_synth = synth.sample(1000)\n",
    "data_synth"
   ]
  },
  {
   "cell_type": "markdown",
   "id": "64892a9d-cbb7-4383-9a50-ffdc8aeebfa1",
   "metadata": {},
   "source": [
    "# Comparing non-dp decision tree vs dp decision tree"
   ]
  },
  {
   "cell_type": "code",
   "execution_count": 18,
   "id": "13536aae-afd6-4120-b21d-e1238a079368",
   "metadata": {},
   "outputs": [],
   "source": [
    "import pandas as pd\n",
    "import numpy as np\n",
    "import matplotlib.pyplot as plt\n",
    "from sklearn.tree import DecisionTreeClassifier\n",
    "from sklearn.model_selection import cross_val_score\n",
    "import diffprivlib.models as dp\n",
    "\n",
    "maternal_health = pd.read_csv('maternalHealthDataSet.csv')"
   ]
  },
  {
   "cell_type": "code",
   "execution_count": 19,
   "id": "a5f42a83-f915-46a0-ab1b-0a8535549b51",
   "metadata": {},
   "outputs": [],
   "source": [
    "X = maternal_health[['Age', 'SystolicBP', 'DiastolicBP', 'BS', 'BodyTemp', 'HeartRate']]\n",
    "y = maternal_health['RiskLevel']"
   ]
  },
  {
   "cell_type": "markdown",
   "id": "5a60aef5-0dc7-43d0-8c2f-8f73c2fa2f9f",
   "metadata": {},
   "source": [
    "## Method 0 (No noise added)"
   ]
  },
  {
   "cell_type": "code",
   "execution_count": 20,
   "id": "f9a96963-d3e1-48c9-be3e-b171cf8c4101",
   "metadata": {},
   "outputs": [
    {
     "name": "stdout",
     "output_type": "stream",
     "text": [
      "Accuracy: 0.81\n"
     ]
    }
   ],
   "source": [
    "clf = DecisionTreeClassifier()\n",
    "\n",
    "# Evaluate the model \n",
    "accuracy = cross_val_score(clf, X, y, cv=10).mean()\n",
    "print(f'Accuracy: {accuracy:.2f}')"
   ]
  },
  {
   "cell_type": "markdown",
   "id": "8425ac9e-330b-4b79-b352-56f3759b3433",
   "metadata": {},
   "source": [
    "## Method 1 (BASE CASE) (DP Decision Tree, Original Data)"
   ]
  },
  {
   "cell_type": "code",
   "execution_count": 21,
   "id": "df540317-dae9-4a3c-94af-379e0c516a0e",
   "metadata": {
    "scrolled": true
   },
   "outputs": [
    {
     "name": "stdout",
     "output_type": "stream",
     "text": [
      "Accuracy: 0.53\n"
     ]
    }
   ],
   "source": [
    "classes = (0, 1, 2) # 0=low risk, 1=mid risk, 2=high risk\n",
    "\n",
    "# TODO: BOUNDS NEED TO BE COMPUTED WITH DP\n",
    "bounds = ([],[])\n",
    "for col in X.columns:\n",
    "    bounds[0].append(X[col].min())\n",
    "    bounds[1].append(X[col].max())\n",
    "\n",
    "\n",
    "dp_clf = dp.DecisionTreeClassifier(epsilon=1, bounds=bounds, classes=classes)\n",
    "# Evaluate the model \n",
    "accuracy = cross_val_score(dp_clf, X, y, cv=10).mean()\n",
    "print(f'Accuracy: {accuracy:.2f}')"
   ]
  },
  {
   "cell_type": "markdown",
   "id": "e9d32dee-8640-4096-8fc5-7e9bc4c371f5",
   "metadata": {},
   "source": [
    "## Method 2 (NON DP Synthetic Data, DP Decision Tree)"
   ]
  },
  {
   "cell_type": "code",
   "execution_count": null,
   "id": "df87d35c-a4ca-4757-9de8-678a3cca97cf",
   "metadata": {},
   "outputs": [],
   "source": [
    "#code"
   ]
  },
  {
   "cell_type": "markdown",
   "id": "bba80f88-9563-470f-a847-d2e36836a7db",
   "metadata": {},
   "source": [
    "## Method 3 (DP Synthetic Data, Non DP Decision Tree"
   ]
  },
  {
   "cell_type": "code",
   "execution_count": null,
   "id": "bf5b3a74-1f97-406e-a1e2-0530d3e697b4",
   "metadata": {},
   "outputs": [],
   "source": [
    "#code"
   ]
  }
 ],
 "metadata": {
  "kernelspec": {
   "display_name": ".venv",
   "language": "python",
   "name": ".venv"
  },
  "language_info": {
   "codemirror_mode": {
    "name": "ipython",
    "version": 3
   },
   "file_extension": ".py",
   "mimetype": "text/x-python",
   "name": "python",
   "nbconvert_exporter": "python",
   "pygments_lexer": "ipython3",
   "version": "3.12.7"
  }
 },
 "nbformat": 4,
 "nbformat_minor": 5
}
