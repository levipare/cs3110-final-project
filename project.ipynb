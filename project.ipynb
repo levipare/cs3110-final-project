{
 "cells": [
  {
   "cell_type": "markdown",
   "id": "64892a9d-cbb7-4383-9a50-ffdc8aeebfa1",
   "metadata": {},
   "source": [
    "# Comparing non-dp decision tree vs dp decision tree"
   ]
  },
  {
   "cell_type": "code",
   "execution_count": 1,
   "id": "13536aae-afd6-4120-b21d-e1238a079368",
   "metadata": {},
   "outputs": [],
   "source": [
    "import pandas as pd\n",
    "import numpy as np\n",
    "import matplotlib.pyplot as plt\n",
    "from sklearn.tree import DecisionTreeClassifier\n",
    "from sklearn.model_selection import cross_val_score\n",
    "import diffprivlib.models as dp\n",
    "from snsynth import Synthesizer # TODO: Exception: Expected exactly one binary to be present. Got: []"
   ]
  },
  {
   "cell_type": "code",
   "execution_count": 2,
   "id": "d3194106-3719-465b-95e2-6fffc8973076",
   "metadata": {},
   "outputs": [],
   "source": [
    "# Original data\n",
    "maternal_health = pd.read_csv('maternalHealthDataSet.csv')\n",
    "X = maternal_health[['Age', 'SystolicBP', 'DiastolicBP', 'BS', 'BodyTemp', 'HeartRate']]\n",
    "y = maternal_health['RiskLevel']"
   ]
  },
  {
   "cell_type": "markdown",
   "id": "5a60aef5-0dc7-43d0-8c2f-8f73c2fa2f9f",
   "metadata": {},
   "source": [
    "## Method 0 (No noise added)"
   ]
  },
  {
   "cell_type": "code",
   "execution_count": 3,
   "id": "f9a96963-d3e1-48c9-be3e-b171cf8c4101",
   "metadata": {},
   "outputs": [
    {
     "data": {
      "text/plain": [
       "np.float64(0.8134245777518929)"
      ]
     },
     "execution_count": 3,
     "metadata": {},
     "output_type": "execute_result"
    }
   ],
   "source": [
    "def dtree(X, y):\n",
    "    clf = DecisionTreeClassifier()\n",
    "    \n",
    "    # Evaluate the model \n",
    "    accuracy = cross_val_score(clf, X, y, cv=10).mean()\n",
    "    return accuracy\n",
    "\n",
    "dtree(X, y)"
   ]
  },
  {
   "cell_type": "markdown",
   "id": "8425ac9e-330b-4b79-b352-56f3759b3433",
   "metadata": {},
   "source": [
    "## Method 1 (BASE CASE) (DP Decision Tree, Original Data)"
   ]
  },
  {
   "cell_type": "code",
   "execution_count": 4,
   "id": "df540317-dae9-4a3c-94af-379e0c516a0e",
   "metadata": {
    "scrolled": true
   },
   "outputs": [
    {
     "data": {
      "text/plain": [
       "np.float64(0.5363133372160744)"
      ]
     },
     "execution_count": 4,
     "metadata": {},
     "output_type": "execute_result"
    }
   ],
   "source": [
    "def dp_dtree(epsilon):\n",
    "    classes = (0, 1, 2) # 0=low risk, 1=mid risk, 2=high risk\n",
    "    \n",
    "    # TODO: BOUNDS NEED TO BE COMPUTED WITH DP OR DOMAIN KNOWLEDGE\n",
    "    bounds = ([],[])\n",
    "    for col in X.columns:\n",
    "        bounds[0].append(X[col].min())\n",
    "        bounds[1].append(X[col].max())\n",
    "\n",
    "    \n",
    "    \n",
    "    dp_clf = dp.DecisionTreeClassifier(epsilon=epsilon, bounds=bounds, classes=classes)\n",
    "    # Evaluate the model \n",
    "    accuracy = cross_val_score(dp_clf, X, y, cv=10).mean()\n",
    "    return accuracy\n",
    "    \n",
    "dp_dtree(1.0)"
   ]
  },
  {
   "cell_type": "markdown",
   "id": "e9d32dee-8640-4096-8fc5-7e9bc4c371f5",
   "metadata": {},
   "source": [
    "## Method 2 (NON DP Synthetic Data, DP Decision Tree)"
   ]
  },
  {
   "cell_type": "code",
   "execution_count": 21,
   "id": "3e07ec85-40f9-4d13-bfbd-9386a03856c1",
   "metadata": {},
   "outputs": [],
   "source": [
    "def create_synthesizer(epsilon, delta):\n",
    "    # MST synthesizer is used here since it took 1st place in NIST's DP syntehtic data contest\n",
    "    synth = Synthesizer.create(\"mst\", epsilon=epsilon, delta=delta, verbose=True)\n",
    "    synth.fit(maternal_health[['Age', 'SystolicBP', 'DiastolicBP', 'BS', 'BodyTemp', 'HeartRate', 'RiskLevel']], preprocessor_eps=epsilon/5) # allocate 1/5 of epsilon to the preprocesser\n",
    "    return synth\n",
    "\n",
    "def dp_synth_dtree(synth, samples):\n",
    "    data = synth.sample(samples)\n",
    "    X_synth = data[['Age', 'SystolicBP', 'DiastolicBP', 'BS', 'BodyTemp', 'HeartRate']]\n",
    "    y_synth = data['RiskLevel']\n",
    "    return dtree(X_synth, y_synth)"
   ]
  },
  {
   "cell_type": "code",
   "execution_count": 22,
   "id": "27d60c6a-ef8c-496b-8ec1-968f72ab35c9",
   "metadata": {},
   "outputs": [
    {
     "name": "stdout",
     "output_type": "stream",
     "text": [
      "Spent 0.2 epsilon on preprocessor, leaving 0.8 for training\n",
      "Fitting with 72960000 dimensions\n",
      "Getting cliques\n",
      "Estimating marginals\n"
     ]
    }
   ],
   "source": [
    "synth = create_synthesizer(1.0, 1e-5)"
   ]
  },
  {
   "cell_type": "code",
   "execution_count": 28,
   "id": "ab9f9a7e-ed08-45ec-92ec-912aef7a2b85",
   "metadata": {},
   "outputs": [],
   "source": [
    "samples = [10**n for n in range(3, 7)]\n",
    "accuracies = []\n",
    "for n in samples:\n",
    "    accuracies.append(dp_synth_dtree(synth, n))"
   ]
  },
  {
   "cell_type": "code",
   "execution_count": 34,
   "id": "41f9df54-ebfc-42b2-a39e-7375b58742d5",
   "metadata": {},
   "outputs": [
    {
     "data": {
      "text/plain": [
       "[<matplotlib.lines.Line2D at 0x721713f5acc0>]"
      ]
     },
     "execution_count": 34,
     "metadata": {},
     "output_type": "execute_result"
    },
    {
     "data": {
      "image/png": "[encoded data removed]",
      "text/plain": [
       "<Figure size 640x480 with 1 Axes>"
      ]
     },
     "metadata": {},
     "output_type": "display_data"
    }
   ],
   "source": [
    "plt.xscale(\"log\")\n",
    "plt.plot(samples, accuracies)"
   ]
  },
  {
   "cell_type": "code",
   "execution_count": null,
   "id": "df87d35c-a4ca-4757-9de8-678a3cca97cf",
   "metadata": {},
   "outputs": [],
   "source": [
    "#code"
   ]
  },
  {
   "cell_type": "markdown",
   "id": "bba80f88-9563-470f-a847-d2e36836a7db",
   "metadata": {},
   "source": [
    "## Method 3 (DP Synthetic Data, Non DP Decision Tree"
   ]
  },
  {
   "cell_type": "code",
   "execution_count": null,
   "id": "d7d9f20f-0077-43e6-bdef-b3e5803ad145",
   "metadata": {},
   "outputs": [],
   "source": []
  }
 ],
 "metadata": {
  "kernelspec": {
   "display_name": ".venv",
   "language": "python",
   "name": ".venv"
  },
  "language_info": {
   "codemirror_mode": {
    "name": "ipython",
    "version": 3
   },
   "file_extension": ".py",
   "mimetype": "text/x-python",
   "name": "python",
   "nbconvert_exporter": "python",
   "pygments_lexer": "ipython3",
   "version": "3.12.7"
  }
 },
 "nbformat": 4,
 "nbformat_minor": 5
}
